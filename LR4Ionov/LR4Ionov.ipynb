{
  "nbformat": 4,
  "nbformat_minor": 0,
  "metadata": {
    "colab": {
      "provenance": []
    },
    "kernelspec": {
      "name": "python3",
      "display_name": "Python 3"
    },
    "language_info": {
      "name": "python"
    }
  },
  "cells": [
    {
      "cell_type": "code",
      "execution_count": 33,
      "metadata": {
        "id": "Dtg2E4Upp55w"
      },
      "outputs": [],
      "source": [
        "import pandas as pd\n",
        "import numpy as np"
      ]
    },
    {
      "cell_type": "code",
      "source": [
        "# Загрузка данных\n",
        "data = pd.read_csv('Admission_Predict.csv', sep=',')"
      ],
      "metadata": {
        "id": "UK4ScpKitXC9"
      },
      "execution_count": 54,
      "outputs": []
    },
    {
      "cell_type": "markdown",
      "source": [
        "Данный набор данных состоит из данных 400 студентов и оценок, полученных ими в различных тестах, таких как GRE, TOEFL, а также их CGPA в колледже, а также о том, проводилась ли ими какая-либо исследовательская работа во время окончания учебы. Целевой меткой являются их шансы на поступление в магистратуру с учетом рейтинга университета."
      ],
      "metadata": {
        "id": "kDu2-V-jtdzg"
      }
    },
    {
      "cell_type": "code",
      "source": [
        "# Просмотр первых 20 строк\n",
        "data.head(20)"
      ],
      "metadata": {
        "colab": {
          "base_uri": "https://localhost:8080/",
          "height": 694
        },
        "id": "qQJ--0iUtjBF",
        "outputId": "d485e04e-6580-45d5-a5cd-a43bb74929d8"
      },
      "execution_count": 6,
      "outputs": [
        {
          "output_type": "execute_result",
          "data": {
            "text/plain": [
              "    Serial No.  GRE Score  TOEFL Score  University Rating  SOP  LOR  CGPA  \\\n",
              "0            1        337          118                  4  4.5  4.5  9.65   \n",
              "1            2        324          107                  4  4.0  4.5  8.87   \n",
              "2            3        316          104                  3  3.0  3.5  8.00   \n",
              "3            4        322          110                  3  3.5  2.5  8.67   \n",
              "4            5        314          103                  2  2.0  3.0  8.21   \n",
              "5            6        330          115                  5  4.5  3.0  9.34   \n",
              "6            7        321          109                  3  3.0  4.0  8.20   \n",
              "7            8        308          101                  2  3.0  4.0  7.90   \n",
              "8            9        302          102                  1  2.0  1.5  8.00   \n",
              "9           10        323          108                  3  3.5  3.0  8.60   \n",
              "10          11        325          106                  3  3.5  4.0  8.40   \n",
              "11          12        327          111                  4  4.0  4.5  9.00   \n",
              "12          13        328          112                  4  4.0  4.5  9.10   \n",
              "13          14        307          109                  3  4.0  3.0  8.00   \n",
              "14          15        311          104                  3  3.5  2.0  8.20   \n",
              "15          16        314          105                  3  3.5  2.5  8.30   \n",
              "16          17        317          107                  3  4.0  3.0  8.70   \n",
              "17          18        319          106                  3  4.0  3.0  8.00   \n",
              "18          19        318          110                  3  4.0  3.0  8.80   \n",
              "19          20        303          102                  3  3.5  3.0  8.50   \n",
              "\n",
              "    Research  Chance of Admit  \n",
              "0          1                1  \n",
              "1          1                1  \n",
              "2          1                0  \n",
              "3          1                1  \n",
              "4          0                0  \n",
              "5          1                1  \n",
              "6          1                1  \n",
              "7          0                0  \n",
              "8          0                0  \n",
              "9          0                0  \n",
              "10         1                0  \n",
              "11         1                1  \n",
              "12         1                1  \n",
              "13         1                0  \n",
              "14         1                0  \n",
              "15         0                0  \n",
              "16         0                0  \n",
              "17         1                0  \n",
              "18         0                0  \n",
              "19         0                0  "
            ],
            "text/html": [
              "\n",
              "  <div id=\"df-77ce0e11-7e27-4074-a2a8-7356b08e2844\" class=\"colab-df-container\">\n",
              "    <div>\n",
              "<style scoped>\n",
              "    .dataframe tbody tr th:only-of-type {\n",
              "        vertical-align: middle;\n",
              "    }\n",
              "\n",
              "    .dataframe tbody tr th {\n",
              "        vertical-align: top;\n",
              "    }\n",
              "\n",
              "    .dataframe thead th {\n",
              "        text-align: right;\n",
              "    }\n",
              "</style>\n",
              "<table border=\"1\" class=\"dataframe\">\n",
              "  <thead>\n",
              "    <tr style=\"text-align: right;\">\n",
              "      <th></th>\n",
              "      <th>Serial No.</th>\n",
              "      <th>GRE Score</th>\n",
              "      <th>TOEFL Score</th>\n",
              "      <th>University Rating</th>\n",
              "      <th>SOP</th>\n",
              "      <th>LOR</th>\n",
              "      <th>CGPA</th>\n",
              "      <th>Research</th>\n",
              "      <th>Chance of Admit</th>\n",
              "    </tr>\n",
              "  </thead>\n",
              "  <tbody>\n",
              "    <tr>\n",
              "      <th>0</th>\n",
              "      <td>1</td>\n",
              "      <td>337</td>\n",
              "      <td>118</td>\n",
              "      <td>4</td>\n",
              "      <td>4.5</td>\n",
              "      <td>4.5</td>\n",
              "      <td>9.65</td>\n",
              "      <td>1</td>\n",
              "      <td>1</td>\n",
              "    </tr>\n",
              "    <tr>\n",
              "      <th>1</th>\n",
              "      <td>2</td>\n",
              "      <td>324</td>\n",
              "      <td>107</td>\n",
              "      <td>4</td>\n",
              "      <td>4.0</td>\n",
              "      <td>4.5</td>\n",
              "      <td>8.87</td>\n",
              "      <td>1</td>\n",
              "      <td>1</td>\n",
              "    </tr>\n",
              "    <tr>\n",
              "      <th>2</th>\n",
              "      <td>3</td>\n",
              "      <td>316</td>\n",
              "      <td>104</td>\n",
              "      <td>3</td>\n",
              "      <td>3.0</td>\n",
              "      <td>3.5</td>\n",
              "      <td>8.00</td>\n",
              "      <td>1</td>\n",
              "      <td>0</td>\n",
              "    </tr>\n",
              "    <tr>\n",
              "      <th>3</th>\n",
              "      <td>4</td>\n",
              "      <td>322</td>\n",
              "      <td>110</td>\n",
              "      <td>3</td>\n",
              "      <td>3.5</td>\n",
              "      <td>2.5</td>\n",
              "      <td>8.67</td>\n",
              "      <td>1</td>\n",
              "      <td>1</td>\n",
              "    </tr>\n",
              "    <tr>\n",
              "      <th>4</th>\n",
              "      <td>5</td>\n",
              "      <td>314</td>\n",
              "      <td>103</td>\n",
              "      <td>2</td>\n",
              "      <td>2.0</td>\n",
              "      <td>3.0</td>\n",
              "      <td>8.21</td>\n",
              "      <td>0</td>\n",
              "      <td>0</td>\n",
              "    </tr>\n",
              "    <tr>\n",
              "      <th>5</th>\n",
              "      <td>6</td>\n",
              "      <td>330</td>\n",
              "      <td>115</td>\n",
              "      <td>5</td>\n",
              "      <td>4.5</td>\n",
              "      <td>3.0</td>\n",
              "      <td>9.34</td>\n",
              "      <td>1</td>\n",
              "      <td>1</td>\n",
              "    </tr>\n",
              "    <tr>\n",
              "      <th>6</th>\n",
              "      <td>7</td>\n",
              "      <td>321</td>\n",
              "      <td>109</td>\n",
              "      <td>3</td>\n",
              "      <td>3.0</td>\n",
              "      <td>4.0</td>\n",
              "      <td>8.20</td>\n",
              "      <td>1</td>\n",
              "      <td>1</td>\n",
              "    </tr>\n",
              "    <tr>\n",
              "      <th>7</th>\n",
              "      <td>8</td>\n",
              "      <td>308</td>\n",
              "      <td>101</td>\n",
              "      <td>2</td>\n",
              "      <td>3.0</td>\n",
              "      <td>4.0</td>\n",
              "      <td>7.90</td>\n",
              "      <td>0</td>\n",
              "      <td>0</td>\n",
              "    </tr>\n",
              "    <tr>\n",
              "      <th>8</th>\n",
              "      <td>9</td>\n",
              "      <td>302</td>\n",
              "      <td>102</td>\n",
              "      <td>1</td>\n",
              "      <td>2.0</td>\n",
              "      <td>1.5</td>\n",
              "      <td>8.00</td>\n",
              "      <td>0</td>\n",
              "      <td>0</td>\n",
              "    </tr>\n",
              "    <tr>\n",
              "      <th>9</th>\n",
              "      <td>10</td>\n",
              "      <td>323</td>\n",
              "      <td>108</td>\n",
              "      <td>3</td>\n",
              "      <td>3.5</td>\n",
              "      <td>3.0</td>\n",
              "      <td>8.60</td>\n",
              "      <td>0</td>\n",
              "      <td>0</td>\n",
              "    </tr>\n",
              "    <tr>\n",
              "      <th>10</th>\n",
              "      <td>11</td>\n",
              "      <td>325</td>\n",
              "      <td>106</td>\n",
              "      <td>3</td>\n",
              "      <td>3.5</td>\n",
              "      <td>4.0</td>\n",
              "      <td>8.40</td>\n",
              "      <td>1</td>\n",
              "      <td>0</td>\n",
              "    </tr>\n",
              "    <tr>\n",
              "      <th>11</th>\n",
              "      <td>12</td>\n",
              "      <td>327</td>\n",
              "      <td>111</td>\n",
              "      <td>4</td>\n",
              "      <td>4.0</td>\n",
              "      <td>4.5</td>\n",
              "      <td>9.00</td>\n",
              "      <td>1</td>\n",
              "      <td>1</td>\n",
              "    </tr>\n",
              "    <tr>\n",
              "      <th>12</th>\n",
              "      <td>13</td>\n",
              "      <td>328</td>\n",
              "      <td>112</td>\n",
              "      <td>4</td>\n",
              "      <td>4.0</td>\n",
              "      <td>4.5</td>\n",
              "      <td>9.10</td>\n",
              "      <td>1</td>\n",
              "      <td>1</td>\n",
              "    </tr>\n",
              "    <tr>\n",
              "      <th>13</th>\n",
              "      <td>14</td>\n",
              "      <td>307</td>\n",
              "      <td>109</td>\n",
              "      <td>3</td>\n",
              "      <td>4.0</td>\n",
              "      <td>3.0</td>\n",
              "      <td>8.00</td>\n",
              "      <td>1</td>\n",
              "      <td>0</td>\n",
              "    </tr>\n",
              "    <tr>\n",
              "      <th>14</th>\n",
              "      <td>15</td>\n",
              "      <td>311</td>\n",
              "      <td>104</td>\n",
              "      <td>3</td>\n",
              "      <td>3.5</td>\n",
              "      <td>2.0</td>\n",
              "      <td>8.20</td>\n",
              "      <td>1</td>\n",
              "      <td>0</td>\n",
              "    </tr>\n",
              "    <tr>\n",
              "      <th>15</th>\n",
              "      <td>16</td>\n",
              "      <td>314</td>\n",
              "      <td>105</td>\n",
              "      <td>3</td>\n",
              "      <td>3.5</td>\n",
              "      <td>2.5</td>\n",
              "      <td>8.30</td>\n",
              "      <td>0</td>\n",
              "      <td>0</td>\n",
              "    </tr>\n",
              "    <tr>\n",
              "      <th>16</th>\n",
              "      <td>17</td>\n",
              "      <td>317</td>\n",
              "      <td>107</td>\n",
              "      <td>3</td>\n",
              "      <td>4.0</td>\n",
              "      <td>3.0</td>\n",
              "      <td>8.70</td>\n",
              "      <td>0</td>\n",
              "      <td>0</td>\n",
              "    </tr>\n",
              "    <tr>\n",
              "      <th>17</th>\n",
              "      <td>18</td>\n",
              "      <td>319</td>\n",
              "      <td>106</td>\n",
              "      <td>3</td>\n",
              "      <td>4.0</td>\n",
              "      <td>3.0</td>\n",
              "      <td>8.00</td>\n",
              "      <td>1</td>\n",
              "      <td>0</td>\n",
              "    </tr>\n",
              "    <tr>\n",
              "      <th>18</th>\n",
              "      <td>19</td>\n",
              "      <td>318</td>\n",
              "      <td>110</td>\n",
              "      <td>3</td>\n",
              "      <td>4.0</td>\n",
              "      <td>3.0</td>\n",
              "      <td>8.80</td>\n",
              "      <td>0</td>\n",
              "      <td>0</td>\n",
              "    </tr>\n",
              "    <tr>\n",
              "      <th>19</th>\n",
              "      <td>20</td>\n",
              "      <td>303</td>\n",
              "      <td>102</td>\n",
              "      <td>3</td>\n",
              "      <td>3.5</td>\n",
              "      <td>3.0</td>\n",
              "      <td>8.50</td>\n",
              "      <td>0</td>\n",
              "      <td>0</td>\n",
              "    </tr>\n",
              "  </tbody>\n",
              "</table>\n",
              "</div>\n",
              "    <div class=\"colab-df-buttons\">\n",
              "\n",
              "  <div class=\"colab-df-container\">\n",
              "    <button class=\"colab-df-convert\" onclick=\"convertToInteractive('df-77ce0e11-7e27-4074-a2a8-7356b08e2844')\"\n",
              "            title=\"Convert this dataframe to an interactive table.\"\n",
              "            style=\"display:none;\">\n",
              "\n",
              "  <svg xmlns=\"http://www.w3.org/2000/svg\" height=\"24px\" viewBox=\"0 -960 960 960\">\n",
              "    <path d=\"M120-120v-720h720v720H120Zm60-500h600v-160H180v160Zm220 220h160v-160H400v160Zm0 220h160v-160H400v160ZM180-400h160v-160H180v160Zm440 0h160v-160H620v160ZM180-180h160v-160H180v160Zm440 0h160v-160H620v160Z\"/>\n",
              "  </svg>\n",
              "    </button>\n",
              "\n",
              "  <style>\n",
              "    .colab-df-container {\n",
              "      display:flex;\n",
              "      gap: 12px;\n",
              "    }\n",
              "\n",
              "    .colab-df-convert {\n",
              "      background-color: #E8F0FE;\n",
              "      border: none;\n",
              "      border-radius: 50%;\n",
              "      cursor: pointer;\n",
              "      display: none;\n",
              "      fill: #1967D2;\n",
              "      height: 32px;\n",
              "      padding: 0 0 0 0;\n",
              "      width: 32px;\n",
              "    }\n",
              "\n",
              "    .colab-df-convert:hover {\n",
              "      background-color: #E2EBFA;\n",
              "      box-shadow: 0px 1px 2px rgba(60, 64, 67, 0.3), 0px 1px 3px 1px rgba(60, 64, 67, 0.15);\n",
              "      fill: #174EA6;\n",
              "    }\n",
              "\n",
              "    .colab-df-buttons div {\n",
              "      margin-bottom: 4px;\n",
              "    }\n",
              "\n",
              "    [theme=dark] .colab-df-convert {\n",
              "      background-color: #3B4455;\n",
              "      fill: #D2E3FC;\n",
              "    }\n",
              "\n",
              "    [theme=dark] .colab-df-convert:hover {\n",
              "      background-color: #434B5C;\n",
              "      box-shadow: 0px 1px 3px 1px rgba(0, 0, 0, 0.15);\n",
              "      filter: drop-shadow(0px 1px 2px rgba(0, 0, 0, 0.3));\n",
              "      fill: #FFFFFF;\n",
              "    }\n",
              "  </style>\n",
              "\n",
              "    <script>\n",
              "      const buttonEl =\n",
              "        document.querySelector('#df-77ce0e11-7e27-4074-a2a8-7356b08e2844 button.colab-df-convert');\n",
              "      buttonEl.style.display =\n",
              "        google.colab.kernel.accessAllowed ? 'block' : 'none';\n",
              "\n",
              "      async function convertToInteractive(key) {\n",
              "        const element = document.querySelector('#df-77ce0e11-7e27-4074-a2a8-7356b08e2844');\n",
              "        const dataTable =\n",
              "          await google.colab.kernel.invokeFunction('convertToInteractive',\n",
              "                                                    [key], {});\n",
              "        if (!dataTable) return;\n",
              "\n",
              "        const docLinkHtml = 'Like what you see? Visit the ' +\n",
              "          '<a target=\"_blank\" href=https://colab.research.google.com/notebooks/data_table.ipynb>data table notebook</a>'\n",
              "          + ' to learn more about interactive tables.';\n",
              "        element.innerHTML = '';\n",
              "        dataTable['output_type'] = 'display_data';\n",
              "        await google.colab.output.renderOutput(dataTable, element);\n",
              "        const docLink = document.createElement('div');\n",
              "        docLink.innerHTML = docLinkHtml;\n",
              "        element.appendChild(docLink);\n",
              "      }\n",
              "    </script>\n",
              "  </div>\n",
              "\n",
              "\n",
              "<div id=\"df-1d73b449-e2d2-46c9-b3a5-f98b46752402\">\n",
              "  <button class=\"colab-df-quickchart\" onclick=\"quickchart('df-1d73b449-e2d2-46c9-b3a5-f98b46752402')\"\n",
              "            title=\"Suggest charts\"\n",
              "            style=\"display:none;\">\n",
              "\n",
              "<svg xmlns=\"http://www.w3.org/2000/svg\" height=\"24px\"viewBox=\"0 0 24 24\"\n",
              "     width=\"24px\">\n",
              "    <g>\n",
              "        <path d=\"M19 3H5c-1.1 0-2 .9-2 2v14c0 1.1.9 2 2 2h14c1.1 0 2-.9 2-2V5c0-1.1-.9-2-2-2zM9 17H7v-7h2v7zm4 0h-2V7h2v10zm4 0h-2v-4h2v4z\"/>\n",
              "    </g>\n",
              "</svg>\n",
              "  </button>\n",
              "\n",
              "<style>\n",
              "  .colab-df-quickchart {\n",
              "      --bg-color: #E8F0FE;\n",
              "      --fill-color: #1967D2;\n",
              "      --hover-bg-color: #E2EBFA;\n",
              "      --hover-fill-color: #174EA6;\n",
              "      --disabled-fill-color: #AAA;\n",
              "      --disabled-bg-color: #DDD;\n",
              "  }\n",
              "\n",
              "  [theme=dark] .colab-df-quickchart {\n",
              "      --bg-color: #3B4455;\n",
              "      --fill-color: #D2E3FC;\n",
              "      --hover-bg-color: #434B5C;\n",
              "      --hover-fill-color: #FFFFFF;\n",
              "      --disabled-bg-color: #3B4455;\n",
              "      --disabled-fill-color: #666;\n",
              "  }\n",
              "\n",
              "  .colab-df-quickchart {\n",
              "    background-color: var(--bg-color);\n",
              "    border: none;\n",
              "    border-radius: 50%;\n",
              "    cursor: pointer;\n",
              "    display: none;\n",
              "    fill: var(--fill-color);\n",
              "    height: 32px;\n",
              "    padding: 0;\n",
              "    width: 32px;\n",
              "  }\n",
              "\n",
              "  .colab-df-quickchart:hover {\n",
              "    background-color: var(--hover-bg-color);\n",
              "    box-shadow: 0 1px 2px rgba(60, 64, 67, 0.3), 0 1px 3px 1px rgba(60, 64, 67, 0.15);\n",
              "    fill: var(--button-hover-fill-color);\n",
              "  }\n",
              "\n",
              "  .colab-df-quickchart-complete:disabled,\n",
              "  .colab-df-quickchart-complete:disabled:hover {\n",
              "    background-color: var(--disabled-bg-color);\n",
              "    fill: var(--disabled-fill-color);\n",
              "    box-shadow: none;\n",
              "  }\n",
              "\n",
              "  .colab-df-spinner {\n",
              "    border: 2px solid var(--fill-color);\n",
              "    border-color: transparent;\n",
              "    border-bottom-color: var(--fill-color);\n",
              "    animation:\n",
              "      spin 1s steps(1) infinite;\n",
              "  }\n",
              "\n",
              "  @keyframes spin {\n",
              "    0% {\n",
              "      border-color: transparent;\n",
              "      border-bottom-color: var(--fill-color);\n",
              "      border-left-color: var(--fill-color);\n",
              "    }\n",
              "    20% {\n",
              "      border-color: transparent;\n",
              "      border-left-color: var(--fill-color);\n",
              "      border-top-color: var(--fill-color);\n",
              "    }\n",
              "    30% {\n",
              "      border-color: transparent;\n",
              "      border-left-color: var(--fill-color);\n",
              "      border-top-color: var(--fill-color);\n",
              "      border-right-color: var(--fill-color);\n",
              "    }\n",
              "    40% {\n",
              "      border-color: transparent;\n",
              "      border-right-color: var(--fill-color);\n",
              "      border-top-color: var(--fill-color);\n",
              "    }\n",
              "    60% {\n",
              "      border-color: transparent;\n",
              "      border-right-color: var(--fill-color);\n",
              "    }\n",
              "    80% {\n",
              "      border-color: transparent;\n",
              "      border-right-color: var(--fill-color);\n",
              "      border-bottom-color: var(--fill-color);\n",
              "    }\n",
              "    90% {\n",
              "      border-color: transparent;\n",
              "      border-bottom-color: var(--fill-color);\n",
              "    }\n",
              "  }\n",
              "</style>\n",
              "\n",
              "  <script>\n",
              "    async function quickchart(key) {\n",
              "      const quickchartButtonEl =\n",
              "        document.querySelector('#' + key + ' button');\n",
              "      quickchartButtonEl.disabled = true;  // To prevent multiple clicks.\n",
              "      quickchartButtonEl.classList.add('colab-df-spinner');\n",
              "      try {\n",
              "        const charts = await google.colab.kernel.invokeFunction(\n",
              "            'suggestCharts', [key], {});\n",
              "      } catch (error) {\n",
              "        console.error('Error during call to suggestCharts:', error);\n",
              "      }\n",
              "      quickchartButtonEl.classList.remove('colab-df-spinner');\n",
              "      quickchartButtonEl.classList.add('colab-df-quickchart-complete');\n",
              "    }\n",
              "    (() => {\n",
              "      let quickchartButtonEl =\n",
              "        document.querySelector('#df-1d73b449-e2d2-46c9-b3a5-f98b46752402 button');\n",
              "      quickchartButtonEl.style.display =\n",
              "        google.colab.kernel.accessAllowed ? 'block' : 'none';\n",
              "    })();\n",
              "  </script>\n",
              "</div>\n",
              "    </div>\n",
              "  </div>\n"
            ],
            "application/vnd.google.colaboratory.intrinsic+json": {
              "type": "dataframe",
              "variable_name": "data",
              "summary": "{\n  \"name\": \"data\",\n  \"rows\": 400,\n  \"fields\": [\n    {\n      \"column\": \"Serial No.\",\n      \"properties\": {\n        \"dtype\": \"number\",\n        \"std\": 115,\n        \"min\": 1,\n        \"max\": 400,\n        \"num_unique_values\": 400,\n        \"samples\": [\n          210,\n          281,\n          34\n        ],\n        \"semantic_type\": \"\",\n        \"description\": \"\"\n      }\n    },\n    {\n      \"column\": \"GRE Score\",\n      \"properties\": {\n        \"dtype\": \"number\",\n        \"std\": 11,\n        \"min\": 290,\n        \"max\": 340,\n        \"num_unique_values\": 49,\n        \"samples\": [\n          307,\n          335,\n          297\n        ],\n        \"semantic_type\": \"\",\n        \"description\": \"\"\n      }\n    },\n    {\n      \"column\": \"TOEFL Score\",\n      \"properties\": {\n        \"dtype\": \"number\",\n        \"std\": 6,\n        \"min\": 92,\n        \"max\": 120,\n        \"num_unique_values\": 29,\n        \"samples\": [\n          94,\n          119,\n          112\n        ],\n        \"semantic_type\": \"\",\n        \"description\": \"\"\n      }\n    },\n    {\n      \"column\": \"University Rating\",\n      \"properties\": {\n        \"dtype\": \"number\",\n        \"std\": 1,\n        \"min\": 1,\n        \"max\": 5,\n        \"num_unique_values\": 5,\n        \"samples\": [\n          3,\n          1,\n          2\n        ],\n        \"semantic_type\": \"\",\n        \"description\": \"\"\n      }\n    },\n    {\n      \"column\": \"SOP\",\n      \"properties\": {\n        \"dtype\": \"number\",\n        \"std\": 1.006868641458697,\n        \"min\": 1.0,\n        \"max\": 5.0,\n        \"num_unique_values\": 9,\n        \"samples\": [\n          1.0,\n          4.0,\n          5.0\n        ],\n        \"semantic_type\": \"\",\n        \"description\": \"\"\n      }\n    },\n    {\n      \"column\": \"LOR\",\n      \"properties\": {\n        \"dtype\": \"number\",\n        \"std\": 0.8984775482792571,\n        \"min\": 1.0,\n        \"max\": 5.0,\n        \"num_unique_values\": 9,\n        \"samples\": [\n          5.0,\n          3.5,\n          1.5\n        ],\n        \"semantic_type\": \"\",\n        \"description\": \"\"\n      }\n    },\n    {\n      \"column\": \"CGPA\",\n      \"properties\": {\n        \"dtype\": \"number\",\n        \"std\": 0.5963170964964318,\n        \"min\": 6.8,\n        \"max\": 9.92,\n        \"num_unique_values\": 168,\n        \"samples\": [\n          8.15,\n          7.4,\n          9.91\n        ],\n        \"semantic_type\": \"\",\n        \"description\": \"\"\n      }\n    },\n    {\n      \"column\": \"Research\",\n      \"properties\": {\n        \"dtype\": \"number\",\n        \"std\": 0,\n        \"min\": 0,\n        \"max\": 1,\n        \"num_unique_values\": 2,\n        \"samples\": [\n          0,\n          1\n        ],\n        \"semantic_type\": \"\",\n        \"description\": \"\"\n      }\n    },\n    {\n      \"column\": \"Chance of Admit\",\n      \"properties\": {\n        \"dtype\": \"number\",\n        \"std\": 0,\n        \"min\": 0,\n        \"max\": 1,\n        \"num_unique_values\": 2,\n        \"samples\": [\n          0,\n          1\n        ],\n        \"semantic_type\": \"\",\n        \"description\": \"\"\n      }\n    }\n  ]\n}"
            }
          },
          "metadata": {},
          "execution_count": 6
        }
      ]
    },
    {
      "cell_type": "code",
      "source": [
        "data.describe()"
      ],
      "metadata": {
        "colab": {
          "base_uri": "https://localhost:8080/",
          "height": 338
        },
        "id": "5z0IQbLOtlHs",
        "outputId": "b2f21507-4728-449e-ff78-a39c14dfde20"
      },
      "execution_count": 7,
      "outputs": [
        {
          "output_type": "execute_result",
          "data": {
            "text/plain": [
              "       Serial No.   GRE Score  TOEFL Score  University Rating         SOP  \\\n",
              "count  400.000000  400.000000   400.000000         400.000000  400.000000   \n",
              "mean   200.500000  316.807500   107.410000           3.087500    3.400000   \n",
              "std    115.614301   11.473646     6.069514           1.143728    1.006869   \n",
              "min      1.000000  290.000000    92.000000           1.000000    1.000000   \n",
              "25%    100.750000  308.000000   103.000000           2.000000    2.500000   \n",
              "50%    200.500000  317.000000   107.000000           3.000000    3.500000   \n",
              "75%    300.250000  325.000000   112.000000           4.000000    4.000000   \n",
              "max    400.000000  340.000000   120.000000           5.000000    5.000000   \n",
              "\n",
              "              LOR        CGPA    Research  Chance of Admit  \n",
              "count  400.000000  400.000000  400.000000       400.000000  \n",
              "mean     3.452500    8.598925    0.547500         0.450000  \n",
              "std      0.898478    0.596317    0.498362         0.498117  \n",
              "min      1.000000    6.800000    0.000000         0.000000  \n",
              "25%      3.000000    8.170000    0.000000         0.000000  \n",
              "50%      3.500000    8.610000    1.000000         0.000000  \n",
              "75%      4.000000    9.062500    1.000000         1.000000  \n",
              "max      5.000000    9.920000    1.000000         1.000000  "
            ],
            "text/html": [
              "\n",
              "  <div id=\"df-701a7830-d6c0-4567-9b86-671ce398a3aa\" class=\"colab-df-container\">\n",
              "    <div>\n",
              "<style scoped>\n",
              "    .dataframe tbody tr th:only-of-type {\n",
              "        vertical-align: middle;\n",
              "    }\n",
              "\n",
              "    .dataframe tbody tr th {\n",
              "        vertical-align: top;\n",
              "    }\n",
              "\n",
              "    .dataframe thead th {\n",
              "        text-align: right;\n",
              "    }\n",
              "</style>\n",
              "<table border=\"1\" class=\"dataframe\">\n",
              "  <thead>\n",
              "    <tr style=\"text-align: right;\">\n",
              "      <th></th>\n",
              "      <th>Serial No.</th>\n",
              "      <th>GRE Score</th>\n",
              "      <th>TOEFL Score</th>\n",
              "      <th>University Rating</th>\n",
              "      <th>SOP</th>\n",
              "      <th>LOR</th>\n",
              "      <th>CGPA</th>\n",
              "      <th>Research</th>\n",
              "      <th>Chance of Admit</th>\n",
              "    </tr>\n",
              "  </thead>\n",
              "  <tbody>\n",
              "    <tr>\n",
              "      <th>count</th>\n",
              "      <td>400.000000</td>\n",
              "      <td>400.000000</td>\n",
              "      <td>400.000000</td>\n",
              "      <td>400.000000</td>\n",
              "      <td>400.000000</td>\n",
              "      <td>400.000000</td>\n",
              "      <td>400.000000</td>\n",
              "      <td>400.000000</td>\n",
              "      <td>400.000000</td>\n",
              "    </tr>\n",
              "    <tr>\n",
              "      <th>mean</th>\n",
              "      <td>200.500000</td>\n",
              "      <td>316.807500</td>\n",
              "      <td>107.410000</td>\n",
              "      <td>3.087500</td>\n",
              "      <td>3.400000</td>\n",
              "      <td>3.452500</td>\n",
              "      <td>8.598925</td>\n",
              "      <td>0.547500</td>\n",
              "      <td>0.450000</td>\n",
              "    </tr>\n",
              "    <tr>\n",
              "      <th>std</th>\n",
              "      <td>115.614301</td>\n",
              "      <td>11.473646</td>\n",
              "      <td>6.069514</td>\n",
              "      <td>1.143728</td>\n",
              "      <td>1.006869</td>\n",
              "      <td>0.898478</td>\n",
              "      <td>0.596317</td>\n",
              "      <td>0.498362</td>\n",
              "      <td>0.498117</td>\n",
              "    </tr>\n",
              "    <tr>\n",
              "      <th>min</th>\n",
              "      <td>1.000000</td>\n",
              "      <td>290.000000</td>\n",
              "      <td>92.000000</td>\n",
              "      <td>1.000000</td>\n",
              "      <td>1.000000</td>\n",
              "      <td>1.000000</td>\n",
              "      <td>6.800000</td>\n",
              "      <td>0.000000</td>\n",
              "      <td>0.000000</td>\n",
              "    </tr>\n",
              "    <tr>\n",
              "      <th>25%</th>\n",
              "      <td>100.750000</td>\n",
              "      <td>308.000000</td>\n",
              "      <td>103.000000</td>\n",
              "      <td>2.000000</td>\n",
              "      <td>2.500000</td>\n",
              "      <td>3.000000</td>\n",
              "      <td>8.170000</td>\n",
              "      <td>0.000000</td>\n",
              "      <td>0.000000</td>\n",
              "    </tr>\n",
              "    <tr>\n",
              "      <th>50%</th>\n",
              "      <td>200.500000</td>\n",
              "      <td>317.000000</td>\n",
              "      <td>107.000000</td>\n",
              "      <td>3.000000</td>\n",
              "      <td>3.500000</td>\n",
              "      <td>3.500000</td>\n",
              "      <td>8.610000</td>\n",
              "      <td>1.000000</td>\n",
              "      <td>0.000000</td>\n",
              "    </tr>\n",
              "    <tr>\n",
              "      <th>75%</th>\n",
              "      <td>300.250000</td>\n",
              "      <td>325.000000</td>\n",
              "      <td>112.000000</td>\n",
              "      <td>4.000000</td>\n",
              "      <td>4.000000</td>\n",
              "      <td>4.000000</td>\n",
              "      <td>9.062500</td>\n",
              "      <td>1.000000</td>\n",
              "      <td>1.000000</td>\n",
              "    </tr>\n",
              "    <tr>\n",
              "      <th>max</th>\n",
              "      <td>400.000000</td>\n",
              "      <td>340.000000</td>\n",
              "      <td>120.000000</td>\n",
              "      <td>5.000000</td>\n",
              "      <td>5.000000</td>\n",
              "      <td>5.000000</td>\n",
              "      <td>9.920000</td>\n",
              "      <td>1.000000</td>\n",
              "      <td>1.000000</td>\n",
              "    </tr>\n",
              "  </tbody>\n",
              "</table>\n",
              "</div>\n",
              "    <div class=\"colab-df-buttons\">\n",
              "\n",
              "  <div class=\"colab-df-container\">\n",
              "    <button class=\"colab-df-convert\" onclick=\"convertToInteractive('df-701a7830-d6c0-4567-9b86-671ce398a3aa')\"\n",
              "            title=\"Convert this dataframe to an interactive table.\"\n",
              "            style=\"display:none;\">\n",
              "\n",
              "  <svg xmlns=\"http://www.w3.org/2000/svg\" height=\"24px\" viewBox=\"0 -960 960 960\">\n",
              "    <path d=\"M120-120v-720h720v720H120Zm60-500h600v-160H180v160Zm220 220h160v-160H400v160Zm0 220h160v-160H400v160ZM180-400h160v-160H180v160Zm440 0h160v-160H620v160ZM180-180h160v-160H180v160Zm440 0h160v-160H620v160Z\"/>\n",
              "  </svg>\n",
              "    </button>\n",
              "\n",
              "  <style>\n",
              "    .colab-df-container {\n",
              "      display:flex;\n",
              "      gap: 12px;\n",
              "    }\n",
              "\n",
              "    .colab-df-convert {\n",
              "      background-color: #E8F0FE;\n",
              "      border: none;\n",
              "      border-radius: 50%;\n",
              "      cursor: pointer;\n",
              "      display: none;\n",
              "      fill: #1967D2;\n",
              "      height: 32px;\n",
              "      padding: 0 0 0 0;\n",
              "      width: 32px;\n",
              "    }\n",
              "\n",
              "    .colab-df-convert:hover {\n",
              "      background-color: #E2EBFA;\n",
              "      box-shadow: 0px 1px 2px rgba(60, 64, 67, 0.3), 0px 1px 3px 1px rgba(60, 64, 67, 0.15);\n",
              "      fill: #174EA6;\n",
              "    }\n",
              "\n",
              "    .colab-df-buttons div {\n",
              "      margin-bottom: 4px;\n",
              "    }\n",
              "\n",
              "    [theme=dark] .colab-df-convert {\n",
              "      background-color: #3B4455;\n",
              "      fill: #D2E3FC;\n",
              "    }\n",
              "\n",
              "    [theme=dark] .colab-df-convert:hover {\n",
              "      background-color: #434B5C;\n",
              "      box-shadow: 0px 1px 3px 1px rgba(0, 0, 0, 0.15);\n",
              "      filter: drop-shadow(0px 1px 2px rgba(0, 0, 0, 0.3));\n",
              "      fill: #FFFFFF;\n",
              "    }\n",
              "  </style>\n",
              "\n",
              "    <script>\n",
              "      const buttonEl =\n",
              "        document.querySelector('#df-701a7830-d6c0-4567-9b86-671ce398a3aa button.colab-df-convert');\n",
              "      buttonEl.style.display =\n",
              "        google.colab.kernel.accessAllowed ? 'block' : 'none';\n",
              "\n",
              "      async function convertToInteractive(key) {\n",
              "        const element = document.querySelector('#df-701a7830-d6c0-4567-9b86-671ce398a3aa');\n",
              "        const dataTable =\n",
              "          await google.colab.kernel.invokeFunction('convertToInteractive',\n",
              "                                                    [key], {});\n",
              "        if (!dataTable) return;\n",
              "\n",
              "        const docLinkHtml = 'Like what you see? Visit the ' +\n",
              "          '<a target=\"_blank\" href=https://colab.research.google.com/notebooks/data_table.ipynb>data table notebook</a>'\n",
              "          + ' to learn more about interactive tables.';\n",
              "        element.innerHTML = '';\n",
              "        dataTable['output_type'] = 'display_data';\n",
              "        await google.colab.output.renderOutput(dataTable, element);\n",
              "        const docLink = document.createElement('div');\n",
              "        docLink.innerHTML = docLinkHtml;\n",
              "        element.appendChild(docLink);\n",
              "      }\n",
              "    </script>\n",
              "  </div>\n",
              "\n",
              "\n",
              "<div id=\"df-90d05776-080a-42c9-8eef-81da8f756934\">\n",
              "  <button class=\"colab-df-quickchart\" onclick=\"quickchart('df-90d05776-080a-42c9-8eef-81da8f756934')\"\n",
              "            title=\"Suggest charts\"\n",
              "            style=\"display:none;\">\n",
              "\n",
              "<svg xmlns=\"http://www.w3.org/2000/svg\" height=\"24px\"viewBox=\"0 0 24 24\"\n",
              "     width=\"24px\">\n",
              "    <g>\n",
              "        <path d=\"M19 3H5c-1.1 0-2 .9-2 2v14c0 1.1.9 2 2 2h14c1.1 0 2-.9 2-2V5c0-1.1-.9-2-2-2zM9 17H7v-7h2v7zm4 0h-2V7h2v10zm4 0h-2v-4h2v4z\"/>\n",
              "    </g>\n",
              "</svg>\n",
              "  </button>\n",
              "\n",
              "<style>\n",
              "  .colab-df-quickchart {\n",
              "      --bg-color: #E8F0FE;\n",
              "      --fill-color: #1967D2;\n",
              "      --hover-bg-color: #E2EBFA;\n",
              "      --hover-fill-color: #174EA6;\n",
              "      --disabled-fill-color: #AAA;\n",
              "      --disabled-bg-color: #DDD;\n",
              "  }\n",
              "\n",
              "  [theme=dark] .colab-df-quickchart {\n",
              "      --bg-color: #3B4455;\n",
              "      --fill-color: #D2E3FC;\n",
              "      --hover-bg-color: #434B5C;\n",
              "      --hover-fill-color: #FFFFFF;\n",
              "      --disabled-bg-color: #3B4455;\n",
              "      --disabled-fill-color: #666;\n",
              "  }\n",
              "\n",
              "  .colab-df-quickchart {\n",
              "    background-color: var(--bg-color);\n",
              "    border: none;\n",
              "    border-radius: 50%;\n",
              "    cursor: pointer;\n",
              "    display: none;\n",
              "    fill: var(--fill-color);\n",
              "    height: 32px;\n",
              "    padding: 0;\n",
              "    width: 32px;\n",
              "  }\n",
              "\n",
              "  .colab-df-quickchart:hover {\n",
              "    background-color: var(--hover-bg-color);\n",
              "    box-shadow: 0 1px 2px rgba(60, 64, 67, 0.3), 0 1px 3px 1px rgba(60, 64, 67, 0.15);\n",
              "    fill: var(--button-hover-fill-color);\n",
              "  }\n",
              "\n",
              "  .colab-df-quickchart-complete:disabled,\n",
              "  .colab-df-quickchart-complete:disabled:hover {\n",
              "    background-color: var(--disabled-bg-color);\n",
              "    fill: var(--disabled-fill-color);\n",
              "    box-shadow: none;\n",
              "  }\n",
              "\n",
              "  .colab-df-spinner {\n",
              "    border: 2px solid var(--fill-color);\n",
              "    border-color: transparent;\n",
              "    border-bottom-color: var(--fill-color);\n",
              "    animation:\n",
              "      spin 1s steps(1) infinite;\n",
              "  }\n",
              "\n",
              "  @keyframes spin {\n",
              "    0% {\n",
              "      border-color: transparent;\n",
              "      border-bottom-color: var(--fill-color);\n",
              "      border-left-color: var(--fill-color);\n",
              "    }\n",
              "    20% {\n",
              "      border-color: transparent;\n",
              "      border-left-color: var(--fill-color);\n",
              "      border-top-color: var(--fill-color);\n",
              "    }\n",
              "    30% {\n",
              "      border-color: transparent;\n",
              "      border-left-color: var(--fill-color);\n",
              "      border-top-color: var(--fill-color);\n",
              "      border-right-color: var(--fill-color);\n",
              "    }\n",
              "    40% {\n",
              "      border-color: transparent;\n",
              "      border-right-color: var(--fill-color);\n",
              "      border-top-color: var(--fill-color);\n",
              "    }\n",
              "    60% {\n",
              "      border-color: transparent;\n",
              "      border-right-color: var(--fill-color);\n",
              "    }\n",
              "    80% {\n",
              "      border-color: transparent;\n",
              "      border-right-color: var(--fill-color);\n",
              "      border-bottom-color: var(--fill-color);\n",
              "    }\n",
              "    90% {\n",
              "      border-color: transparent;\n",
              "      border-bottom-color: var(--fill-color);\n",
              "    }\n",
              "  }\n",
              "</style>\n",
              "\n",
              "  <script>\n",
              "    async function quickchart(key) {\n",
              "      const quickchartButtonEl =\n",
              "        document.querySelector('#' + key + ' button');\n",
              "      quickchartButtonEl.disabled = true;  // To prevent multiple clicks.\n",
              "      quickchartButtonEl.classList.add('colab-df-spinner');\n",
              "      try {\n",
              "        const charts = await google.colab.kernel.invokeFunction(\n",
              "            'suggestCharts', [key], {});\n",
              "      } catch (error) {\n",
              "        console.error('Error during call to suggestCharts:', error);\n",
              "      }\n",
              "      quickchartButtonEl.classList.remove('colab-df-spinner');\n",
              "      quickchartButtonEl.classList.add('colab-df-quickchart-complete');\n",
              "    }\n",
              "    (() => {\n",
              "      let quickchartButtonEl =\n",
              "        document.querySelector('#df-90d05776-080a-42c9-8eef-81da8f756934 button');\n",
              "      quickchartButtonEl.style.display =\n",
              "        google.colab.kernel.accessAllowed ? 'block' : 'none';\n",
              "    })();\n",
              "  </script>\n",
              "</div>\n",
              "    </div>\n",
              "  </div>\n"
            ],
            "application/vnd.google.colaboratory.intrinsic+json": {
              "type": "dataframe",
              "summary": "{\n  \"name\": \"data\",\n  \"rows\": 8,\n  \"fields\": [\n    {\n      \"column\": \"Serial No.\",\n      \"properties\": {\n        \"dtype\": \"number\",\n        \"std\": 143.85727156983504,\n        \"min\": 1.0,\n        \"max\": 400.0,\n        \"num_unique_values\": 6,\n        \"samples\": [\n          400.0,\n          200.5,\n          300.25\n        ],\n        \"semantic_type\": \"\",\n        \"description\": \"\"\n      }\n    },\n    {\n      \"column\": \"GRE Score\",\n      \"properties\": {\n        \"dtype\": \"number\",\n        \"std\": 116.59233338156497,\n        \"min\": 11.473646113500475,\n        \"max\": 400.0,\n        \"num_unique_values\": 8,\n        \"samples\": [\n          316.8075,\n          317.0,\n          400.0\n        ],\n        \"semantic_type\": \"\",\n        \"description\": \"\"\n      }\n    },\n    {\n      \"column\": \"TOEFL Score\",\n      \"properties\": {\n        \"dtype\": \"number\",\n        \"std\": 114.57254758734635,\n        \"min\": 6.069513777374126,\n        \"max\": 400.0,\n        \"num_unique_values\": 8,\n        \"samples\": [\n          107.41,\n          107.0,\n          400.0\n        ],\n        \"semantic_type\": \"\",\n        \"description\": \"\"\n      }\n    },\n    {\n      \"column\": \"University Rating\",\n      \"properties\": {\n        \"dtype\": \"number\",\n        \"std\": 140.45664706865134,\n        \"min\": 1.0,\n        \"max\": 400.0,\n        \"num_unique_values\": 8,\n        \"samples\": [\n          3.0875,\n          3.0,\n          400.0\n        ],\n        \"semantic_type\": \"\",\n        \"description\": \"\"\n      }\n    },\n    {\n      \"column\": \"SOP\",\n      \"properties\": {\n        \"dtype\": \"number\",\n        \"std\": 140.39756402259295,\n        \"min\": 1.0,\n        \"max\": 400.0,\n        \"num_unique_values\": 8,\n        \"samples\": [\n          3.4,\n          3.5,\n          400.0\n        ],\n        \"semantic_type\": \"\",\n        \"description\": \"\"\n      }\n    },\n    {\n      \"column\": \"LOR\",\n      \"properties\": {\n        \"dtype\": \"number\",\n        \"std\": 140.37527959785763,\n        \"min\": 0.8984775482792571,\n        \"max\": 400.0,\n        \"num_unique_values\": 8,\n        \"samples\": [\n          3.4525,\n          3.5,\n          400.0\n        ],\n        \"semantic_type\": \"\",\n        \"description\": \"\"\n      }\n    },\n    {\n      \"column\": \"CGPA\",\n      \"properties\": {\n        \"dtype\": \"number\",\n        \"std\": 138.83768591852123,\n        \"min\": 0.5963170964964318,\n        \"max\": 400.0,\n        \"num_unique_values\": 8,\n        \"samples\": [\n          8.598925,\n          8.61,\n          400.0\n        ],\n        \"semantic_type\": \"\",\n        \"description\": \"\"\n      }\n    },\n    {\n      \"column\": \"Research\",\n      \"properties\": {\n        \"dtype\": \"number\",\n        \"std\": 141.2176212184402,\n        \"min\": 0.0,\n        \"max\": 400.0,\n        \"num_unique_values\": 5,\n        \"samples\": [\n          0.5475,\n          1.0,\n          0.4983619785398314\n        ],\n        \"semantic_type\": \"\",\n        \"description\": \"\"\n      }\n    },\n    {\n      \"column\": \"Chance of Admit\",\n      \"properties\": {\n        \"dtype\": \"number\",\n        \"std\": 141.27306513114317,\n        \"min\": 0.0,\n        \"max\": 400.0,\n        \"num_unique_values\": 5,\n        \"samples\": [\n          0.45,\n          1.0,\n          0.4981167541368989\n        ],\n        \"semantic_type\": \"\",\n        \"description\": \"\"\n      }\n    }\n  ]\n}"
            }
          },
          "metadata": {},
          "execution_count": 7
        }
      ]
    },
    {
      "cell_type": "code",
      "source": [
        "data.isna().sum(axis=1).sum()"
      ],
      "metadata": {
        "colab": {
          "base_uri": "https://localhost:8080/"
        },
        "id": "dJSUNtLStnmM",
        "outputId": "bd3e9398-3e14-4f9f-9735-fce8c69c3b89"
      },
      "execution_count": 8,
      "outputs": [
        {
          "output_type": "execute_result",
          "data": {
            "text/plain": [
              "0"
            ]
          },
          "metadata": {},
          "execution_count": 8
        }
      ]
    },
    {
      "cell_type": "markdown",
      "source": [
        "Предобработка данных"
      ],
      "metadata": {
        "id": "Ps7gLSn5ttCj"
      }
    },
    {
      "cell_type": "code",
      "source": [
        "# Предобработка данных\n",
        "# Удаление ненужных признаков, обработка пропущенных значений\n",
        "data.drop('Serial No.', axis=1, inplace=True)  # Убираем столбец с номером\n",
        "data.dropna(inplace=True)  # удаляем строки с пропущенными значениями"
      ],
      "metadata": {
        "id": "PAGqEDWOtqp7"
      },
      "execution_count": 55,
      "outputs": []
    },
    {
      "cell_type": "code",
      "source": [
        "from sklearn.preprocessing import StandardScaler\n",
        "# Нормализация данных\n",
        "scaler = StandardScaler()\n",
        "data_scaled = scaler.fit_transform(data)"
      ],
      "metadata": {
        "id": "zMfrvji_uLdp"
      },
      "execution_count": 56,
      "outputs": []
    },
    {
      "cell_type": "code",
      "source": [
        "data.head()"
      ],
      "metadata": {
        "colab": {
          "base_uri": "https://localhost:8080/",
          "height": 224
        },
        "id": "B0eRFzWhRabs",
        "outputId": "823e780e-7b74-4e86-b43e-b20f73408dcc"
      },
      "execution_count": 57,
      "outputs": [
        {
          "output_type": "execute_result",
          "data": {
            "text/plain": [
              "   GRE Score  TOEFL Score  University Rating  SOP  LOR  CGPA  Research  \\\n",
              "0        337          118                  4  4.5  4.5  9.65         1   \n",
              "1        324          107                  4  4.0  4.5  8.87         1   \n",
              "2        316          104                  3  3.0  3.5  8.00         1   \n",
              "3        322          110                  3  3.5  2.5  8.67         1   \n",
              "4        314          103                  2  2.0  3.0  8.21         0   \n",
              "\n",
              "   Chance of Admit  \n",
              "0                1  \n",
              "1                1  \n",
              "2                0  \n",
              "3                1  \n",
              "4                0  "
            ],
            "text/html": [
              "\n",
              "  <div id=\"df-73bc6ae9-5dbe-42f3-a641-070221eaed0a\" class=\"colab-df-container\">\n",
              "    <div>\n",
              "<style scoped>\n",
              "    .dataframe tbody tr th:only-of-type {\n",
              "        vertical-align: middle;\n",
              "    }\n",
              "\n",
              "    .dataframe tbody tr th {\n",
              "        vertical-align: top;\n",
              "    }\n",
              "\n",
              "    .dataframe thead th {\n",
              "        text-align: right;\n",
              "    }\n",
              "</style>\n",
              "<table border=\"1\" class=\"dataframe\">\n",
              "  <thead>\n",
              "    <tr style=\"text-align: right;\">\n",
              "      <th></th>\n",
              "      <th>GRE Score</th>\n",
              "      <th>TOEFL Score</th>\n",
              "      <th>University Rating</th>\n",
              "      <th>SOP</th>\n",
              "      <th>LOR</th>\n",
              "      <th>CGPA</th>\n",
              "      <th>Research</th>\n",
              "      <th>Chance of Admit</th>\n",
              "    </tr>\n",
              "  </thead>\n",
              "  <tbody>\n",
              "    <tr>\n",
              "      <th>0</th>\n",
              "      <td>337</td>\n",
              "      <td>118</td>\n",
              "      <td>4</td>\n",
              "      <td>4.5</td>\n",
              "      <td>4.5</td>\n",
              "      <td>9.65</td>\n",
              "      <td>1</td>\n",
              "      <td>1</td>\n",
              "    </tr>\n",
              "    <tr>\n",
              "      <th>1</th>\n",
              "      <td>324</td>\n",
              "      <td>107</td>\n",
              "      <td>4</td>\n",
              "      <td>4.0</td>\n",
              "      <td>4.5</td>\n",
              "      <td>8.87</td>\n",
              "      <td>1</td>\n",
              "      <td>1</td>\n",
              "    </tr>\n",
              "    <tr>\n",
              "      <th>2</th>\n",
              "      <td>316</td>\n",
              "      <td>104</td>\n",
              "      <td>3</td>\n",
              "      <td>3.0</td>\n",
              "      <td>3.5</td>\n",
              "      <td>8.00</td>\n",
              "      <td>1</td>\n",
              "      <td>0</td>\n",
              "    </tr>\n",
              "    <tr>\n",
              "      <th>3</th>\n",
              "      <td>322</td>\n",
              "      <td>110</td>\n",
              "      <td>3</td>\n",
              "      <td>3.5</td>\n",
              "      <td>2.5</td>\n",
              "      <td>8.67</td>\n",
              "      <td>1</td>\n",
              "      <td>1</td>\n",
              "    </tr>\n",
              "    <tr>\n",
              "      <th>4</th>\n",
              "      <td>314</td>\n",
              "      <td>103</td>\n",
              "      <td>2</td>\n",
              "      <td>2.0</td>\n",
              "      <td>3.0</td>\n",
              "      <td>8.21</td>\n",
              "      <td>0</td>\n",
              "      <td>0</td>\n",
              "    </tr>\n",
              "  </tbody>\n",
              "</table>\n",
              "</div>\n",
              "    <div class=\"colab-df-buttons\">\n",
              "\n",
              "  <div class=\"colab-df-container\">\n",
              "    <button class=\"colab-df-convert\" onclick=\"convertToInteractive('df-73bc6ae9-5dbe-42f3-a641-070221eaed0a')\"\n",
              "            title=\"Convert this dataframe to an interactive table.\"\n",
              "            style=\"display:none;\">\n",
              "\n",
              "  <svg xmlns=\"http://www.w3.org/2000/svg\" height=\"24px\" viewBox=\"0 -960 960 960\">\n",
              "    <path d=\"M120-120v-720h720v720H120Zm60-500h600v-160H180v160Zm220 220h160v-160H400v160Zm0 220h160v-160H400v160ZM180-400h160v-160H180v160Zm440 0h160v-160H620v160ZM180-180h160v-160H180v160Zm440 0h160v-160H620v160Z\"/>\n",
              "  </svg>\n",
              "    </button>\n",
              "\n",
              "  <style>\n",
              "    .colab-df-container {\n",
              "      display:flex;\n",
              "      gap: 12px;\n",
              "    }\n",
              "\n",
              "    .colab-df-convert {\n",
              "      background-color: #E8F0FE;\n",
              "      border: none;\n",
              "      border-radius: 50%;\n",
              "      cursor: pointer;\n",
              "      display: none;\n",
              "      fill: #1967D2;\n",
              "      height: 32px;\n",
              "      padding: 0 0 0 0;\n",
              "      width: 32px;\n",
              "    }\n",
              "\n",
              "    .colab-df-convert:hover {\n",
              "      background-color: #E2EBFA;\n",
              "      box-shadow: 0px 1px 2px rgba(60, 64, 67, 0.3), 0px 1px 3px 1px rgba(60, 64, 67, 0.15);\n",
              "      fill: #174EA6;\n",
              "    }\n",
              "\n",
              "    .colab-df-buttons div {\n",
              "      margin-bottom: 4px;\n",
              "    }\n",
              "\n",
              "    [theme=dark] .colab-df-convert {\n",
              "      background-color: #3B4455;\n",
              "      fill: #D2E3FC;\n",
              "    }\n",
              "\n",
              "    [theme=dark] .colab-df-convert:hover {\n",
              "      background-color: #434B5C;\n",
              "      box-shadow: 0px 1px 3px 1px rgba(0, 0, 0, 0.15);\n",
              "      filter: drop-shadow(0px 1px 2px rgba(0, 0, 0, 0.3));\n",
              "      fill: #FFFFFF;\n",
              "    }\n",
              "  </style>\n",
              "\n",
              "    <script>\n",
              "      const buttonEl =\n",
              "        document.querySelector('#df-73bc6ae9-5dbe-42f3-a641-070221eaed0a button.colab-df-convert');\n",
              "      buttonEl.style.display =\n",
              "        google.colab.kernel.accessAllowed ? 'block' : 'none';\n",
              "\n",
              "      async function convertToInteractive(key) {\n",
              "        const element = document.querySelector('#df-73bc6ae9-5dbe-42f3-a641-070221eaed0a');\n",
              "        const dataTable =\n",
              "          await google.colab.kernel.invokeFunction('convertToInteractive',\n",
              "                                                    [key], {});\n",
              "        if (!dataTable) return;\n",
              "\n",
              "        const docLinkHtml = 'Like what you see? Visit the ' +\n",
              "          '<a target=\"_blank\" href=https://colab.research.google.com/notebooks/data_table.ipynb>data table notebook</a>'\n",
              "          + ' to learn more about interactive tables.';\n",
              "        element.innerHTML = '';\n",
              "        dataTable['output_type'] = 'display_data';\n",
              "        await google.colab.output.renderOutput(dataTable, element);\n",
              "        const docLink = document.createElement('div');\n",
              "        docLink.innerHTML = docLinkHtml;\n",
              "        element.appendChild(docLink);\n",
              "      }\n",
              "    </script>\n",
              "  </div>\n",
              "\n",
              "\n",
              "<div id=\"df-4d3e6fde-cc63-4cd2-a0c0-de798ecbad09\">\n",
              "  <button class=\"colab-df-quickchart\" onclick=\"quickchart('df-4d3e6fde-cc63-4cd2-a0c0-de798ecbad09')\"\n",
              "            title=\"Suggest charts\"\n",
              "            style=\"display:none;\">\n",
              "\n",
              "<svg xmlns=\"http://www.w3.org/2000/svg\" height=\"24px\"viewBox=\"0 0 24 24\"\n",
              "     width=\"24px\">\n",
              "    <g>\n",
              "        <path d=\"M19 3H5c-1.1 0-2 .9-2 2v14c0 1.1.9 2 2 2h14c1.1 0 2-.9 2-2V5c0-1.1-.9-2-2-2zM9 17H7v-7h2v7zm4 0h-2V7h2v10zm4 0h-2v-4h2v4z\"/>\n",
              "    </g>\n",
              "</svg>\n",
              "  </button>\n",
              "\n",
              "<style>\n",
              "  .colab-df-quickchart {\n",
              "      --bg-color: #E8F0FE;\n",
              "      --fill-color: #1967D2;\n",
              "      --hover-bg-color: #E2EBFA;\n",
              "      --hover-fill-color: #174EA6;\n",
              "      --disabled-fill-color: #AAA;\n",
              "      --disabled-bg-color: #DDD;\n",
              "  }\n",
              "\n",
              "  [theme=dark] .colab-df-quickchart {\n",
              "      --bg-color: #3B4455;\n",
              "      --fill-color: #D2E3FC;\n",
              "      --hover-bg-color: #434B5C;\n",
              "      --hover-fill-color: #FFFFFF;\n",
              "      --disabled-bg-color: #3B4455;\n",
              "      --disabled-fill-color: #666;\n",
              "  }\n",
              "\n",
              "  .colab-df-quickchart {\n",
              "    background-color: var(--bg-color);\n",
              "    border: none;\n",
              "    border-radius: 50%;\n",
              "    cursor: pointer;\n",
              "    display: none;\n",
              "    fill: var(--fill-color);\n",
              "    height: 32px;\n",
              "    padding: 0;\n",
              "    width: 32px;\n",
              "  }\n",
              "\n",
              "  .colab-df-quickchart:hover {\n",
              "    background-color: var(--hover-bg-color);\n",
              "    box-shadow: 0 1px 2px rgba(60, 64, 67, 0.3), 0 1px 3px 1px rgba(60, 64, 67, 0.15);\n",
              "    fill: var(--button-hover-fill-color);\n",
              "  }\n",
              "\n",
              "  .colab-df-quickchart-complete:disabled,\n",
              "  .colab-df-quickchart-complete:disabled:hover {\n",
              "    background-color: var(--disabled-bg-color);\n",
              "    fill: var(--disabled-fill-color);\n",
              "    box-shadow: none;\n",
              "  }\n",
              "\n",
              "  .colab-df-spinner {\n",
              "    border: 2px solid var(--fill-color);\n",
              "    border-color: transparent;\n",
              "    border-bottom-color: var(--fill-color);\n",
              "    animation:\n",
              "      spin 1s steps(1) infinite;\n",
              "  }\n",
              "\n",
              "  @keyframes spin {\n",
              "    0% {\n",
              "      border-color: transparent;\n",
              "      border-bottom-color: var(--fill-color);\n",
              "      border-left-color: var(--fill-color);\n",
              "    }\n",
              "    20% {\n",
              "      border-color: transparent;\n",
              "      border-left-color: var(--fill-color);\n",
              "      border-top-color: var(--fill-color);\n",
              "    }\n",
              "    30% {\n",
              "      border-color: transparent;\n",
              "      border-left-color: var(--fill-color);\n",
              "      border-top-color: var(--fill-color);\n",
              "      border-right-color: var(--fill-color);\n",
              "    }\n",
              "    40% {\n",
              "      border-color: transparent;\n",
              "      border-right-color: var(--fill-color);\n",
              "      border-top-color: var(--fill-color);\n",
              "    }\n",
              "    60% {\n",
              "      border-color: transparent;\n",
              "      border-right-color: var(--fill-color);\n",
              "    }\n",
              "    80% {\n",
              "      border-color: transparent;\n",
              "      border-right-color: var(--fill-color);\n",
              "      border-bottom-color: var(--fill-color);\n",
              "    }\n",
              "    90% {\n",
              "      border-color: transparent;\n",
              "      border-bottom-color: var(--fill-color);\n",
              "    }\n",
              "  }\n",
              "</style>\n",
              "\n",
              "  <script>\n",
              "    async function quickchart(key) {\n",
              "      const quickchartButtonEl =\n",
              "        document.querySelector('#' + key + ' button');\n",
              "      quickchartButtonEl.disabled = true;  // To prevent multiple clicks.\n",
              "      quickchartButtonEl.classList.add('colab-df-spinner');\n",
              "      try {\n",
              "        const charts = await google.colab.kernel.invokeFunction(\n",
              "            'suggestCharts', [key], {});\n",
              "      } catch (error) {\n",
              "        console.error('Error during call to suggestCharts:', error);\n",
              "      }\n",
              "      quickchartButtonEl.classList.remove('colab-df-spinner');\n",
              "      quickchartButtonEl.classList.add('colab-df-quickchart-complete');\n",
              "    }\n",
              "    (() => {\n",
              "      let quickchartButtonEl =\n",
              "        document.querySelector('#df-4d3e6fde-cc63-4cd2-a0c0-de798ecbad09 button');\n",
              "      quickchartButtonEl.style.display =\n",
              "        google.colab.kernel.accessAllowed ? 'block' : 'none';\n",
              "    })();\n",
              "  </script>\n",
              "</div>\n",
              "    </div>\n",
              "  </div>\n"
            ],
            "application/vnd.google.colaboratory.intrinsic+json": {
              "type": "dataframe",
              "variable_name": "data",
              "summary": "{\n  \"name\": \"data\",\n  \"rows\": 400,\n  \"fields\": [\n    {\n      \"column\": \"GRE Score\",\n      \"properties\": {\n        \"dtype\": \"number\",\n        \"std\": 11,\n        \"min\": 290,\n        \"max\": 340,\n        \"num_unique_values\": 49,\n        \"samples\": [\n          307,\n          335,\n          297\n        ],\n        \"semantic_type\": \"\",\n        \"description\": \"\"\n      }\n    },\n    {\n      \"column\": \"TOEFL Score\",\n      \"properties\": {\n        \"dtype\": \"number\",\n        \"std\": 6,\n        \"min\": 92,\n        \"max\": 120,\n        \"num_unique_values\": 29,\n        \"samples\": [\n          94,\n          119,\n          112\n        ],\n        \"semantic_type\": \"\",\n        \"description\": \"\"\n      }\n    },\n    {\n      \"column\": \"University Rating\",\n      \"properties\": {\n        \"dtype\": \"number\",\n        \"std\": 1,\n        \"min\": 1,\n        \"max\": 5,\n        \"num_unique_values\": 5,\n        \"samples\": [\n          3,\n          1,\n          2\n        ],\n        \"semantic_type\": \"\",\n        \"description\": \"\"\n      }\n    },\n    {\n      \"column\": \"SOP\",\n      \"properties\": {\n        \"dtype\": \"number\",\n        \"std\": 1.006868641458697,\n        \"min\": 1.0,\n        \"max\": 5.0,\n        \"num_unique_values\": 9,\n        \"samples\": [\n          1.0,\n          4.0,\n          5.0\n        ],\n        \"semantic_type\": \"\",\n        \"description\": \"\"\n      }\n    },\n    {\n      \"column\": \"LOR\",\n      \"properties\": {\n        \"dtype\": \"number\",\n        \"std\": 0.8984775482792571,\n        \"min\": 1.0,\n        \"max\": 5.0,\n        \"num_unique_values\": 9,\n        \"samples\": [\n          5.0,\n          3.5,\n          1.5\n        ],\n        \"semantic_type\": \"\",\n        \"description\": \"\"\n      }\n    },\n    {\n      \"column\": \"CGPA\",\n      \"properties\": {\n        \"dtype\": \"number\",\n        \"std\": 0.5963170964964318,\n        \"min\": 6.8,\n        \"max\": 9.92,\n        \"num_unique_values\": 168,\n        \"samples\": [\n          8.15,\n          7.4,\n          9.91\n        ],\n        \"semantic_type\": \"\",\n        \"description\": \"\"\n      }\n    },\n    {\n      \"column\": \"Research\",\n      \"properties\": {\n        \"dtype\": \"number\",\n        \"std\": 0,\n        \"min\": 0,\n        \"max\": 1,\n        \"num_unique_values\": 2,\n        \"samples\": [\n          0,\n          1\n        ],\n        \"semantic_type\": \"\",\n        \"description\": \"\"\n      }\n    },\n    {\n      \"column\": \"Chance of Admit\",\n      \"properties\": {\n        \"dtype\": \"number\",\n        \"std\": 0,\n        \"min\": 0,\n        \"max\": 1,\n        \"num_unique_values\": 2,\n        \"samples\": [\n          0,\n          1\n        ],\n        \"semantic_type\": \"\",\n        \"description\": \"\"\n      }\n    }\n  ]\n}"
            }
          },
          "metadata": {},
          "execution_count": 57
        }
      ]
    },
    {
      "cell_type": "markdown",
      "source": [
        "**Дерево решений:**"
      ],
      "metadata": {
        "id": "qFh2WgtbvrFO"
      }
    },
    {
      "cell_type": "markdown",
      "source": [
        "Разбиение на обучающую и тестовую выборку"
      ],
      "metadata": {
        "id": "wk6F8yGut2tM"
      }
    },
    {
      "cell_type": "code",
      "source": [
        "# Разбиваем на обучающую и тестовую выборки\n",
        "from sklearn.model_selection import train_test_split"
      ],
      "metadata": {
        "id": "E5NFJO_RV-gc"
      },
      "execution_count": 58,
      "outputs": []
    },
    {
      "cell_type": "code",
      "source": [
        "X = data.drop('Chance of Admit', axis=1)\n",
        "y = data['Chance of Admit']"
      ],
      "metadata": {
        "id": "UJf0-ZIzt27u"
      },
      "execution_count": 59,
      "outputs": []
    },
    {
      "cell_type": "code",
      "source": [
        "X_train, X_test, y_train, y_test = train_test_split(X, y, test_size=0.2, random_state=42)\n"
      ],
      "metadata": {
        "id": "PqDKk-IZVuSW"
      },
      "execution_count": 74,
      "outputs": []
    },
    {
      "cell_type": "markdown",
      "source": [
        "Дерево решений"
      ],
      "metadata": {
        "id": "Wlq5_5MCt50i"
      }
    },
    {
      "cell_type": "code",
      "source": [
        "from sklearn.tree import DecisionTreeClassifier\n",
        "from sklearn.model_selection import GridSearchCV\n",
        "from sklearn.metrics import accuracy_score, precision_score, recall_score, f1_score\n"
      ],
      "metadata": {
        "id": "CDQ5J3pMWBGU"
      },
      "execution_count": 75,
      "outputs": []
    },
    {
      "cell_type": "code",
      "source": [
        "param_grid = {\n",
        "    'max_depth': [3, 4, 5, 6, 7, 8, 9, 10],\n",
        "    'max_features': range(2, 8)\n",
        "}\n",
        "\n",
        "# Подбор гиперпараметров с помощью GridSearchCV\n",
        "grid_search = GridSearchCV(DecisionTreeClassifier(), param_grid, cv=5)\n",
        "grid_search.fit(X_train, y_train)"
      ],
      "metadata": {
        "colab": {
          "base_uri": "https://localhost:8080/",
          "height": 118
        },
        "id": "SOUvawUUt6R0",
        "outputId": "be765a2d-a05f-48f8-b698-333491411b44"
      },
      "execution_count": 76,
      "outputs": [
        {
          "output_type": "execute_result",
          "data": {
            "text/plain": [
              "GridSearchCV(cv=5, estimator=DecisionTreeClassifier(),\n",
              "             param_grid={'max_depth': [3, 4, 5, 6, 7, 8, 9, 10],\n",
              "                         'max_features': range(2, 8)})"
            ],
            "text/html": [
              "<style>#sk-container-id-8 {color: black;background-color: white;}#sk-container-id-8 pre{padding: 0;}#sk-container-id-8 div.sk-toggleable {background-color: white;}#sk-container-id-8 label.sk-toggleable__label {cursor: pointer;display: block;width: 100%;margin-bottom: 0;padding: 0.3em;box-sizing: border-box;text-align: center;}#sk-container-id-8 label.sk-toggleable__label-arrow:before {content: \"▸\";float: left;margin-right: 0.25em;color: #696969;}#sk-container-id-8 label.sk-toggleable__label-arrow:hover:before {color: black;}#sk-container-id-8 div.sk-estimator:hover label.sk-toggleable__label-arrow:before {color: black;}#sk-container-id-8 div.sk-toggleable__content {max-height: 0;max-width: 0;overflow: hidden;text-align: left;background-color: #f0f8ff;}#sk-container-id-8 div.sk-toggleable__content pre {margin: 0.2em;color: black;border-radius: 0.25em;background-color: #f0f8ff;}#sk-container-id-8 input.sk-toggleable__control:checked~div.sk-toggleable__content {max-height: 200px;max-width: 100%;overflow: auto;}#sk-container-id-8 input.sk-toggleable__control:checked~label.sk-toggleable__label-arrow:before {content: \"▾\";}#sk-container-id-8 div.sk-estimator input.sk-toggleable__control:checked~label.sk-toggleable__label {background-color: #d4ebff;}#sk-container-id-8 div.sk-label input.sk-toggleable__control:checked~label.sk-toggleable__label {background-color: #d4ebff;}#sk-container-id-8 input.sk-hidden--visually {border: 0;clip: rect(1px 1px 1px 1px);clip: rect(1px, 1px, 1px, 1px);height: 1px;margin: -1px;overflow: hidden;padding: 0;position: absolute;width: 1px;}#sk-container-id-8 div.sk-estimator {font-family: monospace;background-color: #f0f8ff;border: 1px dotted black;border-radius: 0.25em;box-sizing: border-box;margin-bottom: 0.5em;}#sk-container-id-8 div.sk-estimator:hover {background-color: #d4ebff;}#sk-container-id-8 div.sk-parallel-item::after {content: \"\";width: 100%;border-bottom: 1px solid gray;flex-grow: 1;}#sk-container-id-8 div.sk-label:hover label.sk-toggleable__label {background-color: #d4ebff;}#sk-container-id-8 div.sk-serial::before {content: \"\";position: absolute;border-left: 1px solid gray;box-sizing: border-box;top: 0;bottom: 0;left: 50%;z-index: 0;}#sk-container-id-8 div.sk-serial {display: flex;flex-direction: column;align-items: center;background-color: white;padding-right: 0.2em;padding-left: 0.2em;position: relative;}#sk-container-id-8 div.sk-item {position: relative;z-index: 1;}#sk-container-id-8 div.sk-parallel {display: flex;align-items: stretch;justify-content: center;background-color: white;position: relative;}#sk-container-id-8 div.sk-item::before, #sk-container-id-8 div.sk-parallel-item::before {content: \"\";position: absolute;border-left: 1px solid gray;box-sizing: border-box;top: 0;bottom: 0;left: 50%;z-index: -1;}#sk-container-id-8 div.sk-parallel-item {display: flex;flex-direction: column;z-index: 1;position: relative;background-color: white;}#sk-container-id-8 div.sk-parallel-item:first-child::after {align-self: flex-end;width: 50%;}#sk-container-id-8 div.sk-parallel-item:last-child::after {align-self: flex-start;width: 50%;}#sk-container-id-8 div.sk-parallel-item:only-child::after {width: 0;}#sk-container-id-8 div.sk-dashed-wrapped {border: 1px dashed gray;margin: 0 0.4em 0.5em 0.4em;box-sizing: border-box;padding-bottom: 0.4em;background-color: white;}#sk-container-id-8 div.sk-label label {font-family: monospace;font-weight: bold;display: inline-block;line-height: 1.2em;}#sk-container-id-8 div.sk-label-container {text-align: center;}#sk-container-id-8 div.sk-container {/* jupyter's `normalize.less` sets `[hidden] { display: none; }` but bootstrap.min.css set `[hidden] { display: none !important; }` so we also need the `!important` here to be able to override the default hidden behavior on the sphinx rendered scikit-learn.org. See: https://github.com/scikit-learn/scikit-learn/issues/21755 */display: inline-block !important;position: relative;}#sk-container-id-8 div.sk-text-repr-fallback {display: none;}</style><div id=\"sk-container-id-8\" class=\"sk-top-container\"><div class=\"sk-text-repr-fallback\"><pre>GridSearchCV(cv=5, estimator=DecisionTreeClassifier(),\n",
              "             param_grid={&#x27;max_depth&#x27;: [3, 4, 5, 6, 7, 8, 9, 10],\n",
              "                         &#x27;max_features&#x27;: range(2, 8)})</pre><b>In a Jupyter environment, please rerun this cell to show the HTML representation or trust the notebook. <br />On GitHub, the HTML representation is unable to render, please try loading this page with nbviewer.org.</b></div><div class=\"sk-container\" hidden><div class=\"sk-item sk-dashed-wrapped\"><div class=\"sk-label-container\"><div class=\"sk-label sk-toggleable\"><input class=\"sk-toggleable__control sk-hidden--visually\" id=\"sk-estimator-id-22\" type=\"checkbox\" ><label for=\"sk-estimator-id-22\" class=\"sk-toggleable__label sk-toggleable__label-arrow\">GridSearchCV</label><div class=\"sk-toggleable__content\"><pre>GridSearchCV(cv=5, estimator=DecisionTreeClassifier(),\n",
              "             param_grid={&#x27;max_depth&#x27;: [3, 4, 5, 6, 7, 8, 9, 10],\n",
              "                         &#x27;max_features&#x27;: range(2, 8)})</pre></div></div></div><div class=\"sk-parallel\"><div class=\"sk-parallel-item\"><div class=\"sk-item\"><div class=\"sk-label-container\"><div class=\"sk-label sk-toggleable\"><input class=\"sk-toggleable__control sk-hidden--visually\" id=\"sk-estimator-id-23\" type=\"checkbox\" ><label for=\"sk-estimator-id-23\" class=\"sk-toggleable__label sk-toggleable__label-arrow\">estimator: DecisionTreeClassifier</label><div class=\"sk-toggleable__content\"><pre>DecisionTreeClassifier()</pre></div></div></div><div class=\"sk-serial\"><div class=\"sk-item\"><div class=\"sk-estimator sk-toggleable\"><input class=\"sk-toggleable__control sk-hidden--visually\" id=\"sk-estimator-id-24\" type=\"checkbox\" ><label for=\"sk-estimator-id-24\" class=\"sk-toggleable__label sk-toggleable__label-arrow\">DecisionTreeClassifier</label><div class=\"sk-toggleable__content\"><pre>DecisionTreeClassifier()</pre></div></div></div></div></div></div></div></div></div></div>"
            ]
          },
          "metadata": {},
          "execution_count": 76
        }
      ]
    },
    {
      "cell_type": "code",
      "source": [
        "# Лучшие значения гиперпараметров и метрики\n",
        "print(\"Best hyperparameters:\", grid_search.best_params_)\n",
        "y_pred = grid_search.predict(X_test)\n",
        "print(\"Accuracy:\", accuracy_score(y_test, y_pred))\n",
        "print(\"Precision:\", precision_score(y_test, y_pred))\n",
        "print(\"Recall:\", recall_score(y_test, y_pred))\n",
        "print(\"F1 Score:\", f1_score(y_test, y_pred))"
      ],
      "metadata": {
        "colab": {
          "base_uri": "https://localhost:8080/"
        },
        "id": "d6AhY8yByhGi",
        "outputId": "7b314e4e-3415-47f1-ed7a-730fc496d501"
      },
      "execution_count": 77,
      "outputs": [
        {
          "output_type": "stream",
          "name": "stdout",
          "text": [
            "Best hyperparameters: {'max_depth': 3, 'max_features': 2}\n",
            "Accuracy: 0.85\n",
            "Precision: 0.7837837837837838\n",
            "Recall: 0.8787878787878788\n",
            "F1 Score: 0.8285714285714285\n"
          ]
        }
      ]
    },
    {
      "cell_type": "code",
      "source": [
        "best_dt = grid_search.best_estimator_\n",
        "feature_importances = best_dt.feature_importances_\n",
        "sorted_indices = np.argsort(feature_importances)[::-1]\n",
        "print(\"Feature Importances:\")\n",
        "for idx in sorted_indices:\n",
        "    print(f\"{X.columns[idx]}: {feature_importances[idx]}\")"
      ],
      "metadata": {
        "colab": {
          "base_uri": "https://localhost:8080/"
        },
        "id": "OPR_XIa8uYZU",
        "outputId": "d0bcf44f-473b-4e76-c674-f621b2dea796"
      },
      "execution_count": 78,
      "outputs": [
        {
          "output_type": "stream",
          "name": "stdout",
          "text": [
            "Feature Importances:\n",
            "TOEFL Score: 0.7137651349402058\n",
            "GRE Score: 0.126187367070242\n",
            "LOR: 0.08096650112283123\n",
            "University Rating: 0.07908099686672113\n",
            "Research: 0.0\n",
            "CGPA: 0.0\n",
            "SOP: 0.0\n"
          ]
        }
      ]
    },
    {
      "cell_type": "markdown",
      "source": [
        "Фильтрация признаков по значению порога важности признака"
      ],
      "metadata": {
        "id": "zZJwFFH6ueGA"
      }
    },
    {
      "cell_type": "code",
      "source": [
        "# Фильтрация признаков\n",
        "threshold = 0.1  # Задаем пороговое значение для важности признака\n",
        "selected_features = X.columns[feature_importances >= threshold]"
      ],
      "metadata": {
        "id": "av81x2R0ubts"
      },
      "execution_count": 79,
      "outputs": []
    },
    {
      "cell_type": "code",
      "source": [
        "selected_features"
      ],
      "metadata": {
        "colab": {
          "base_uri": "https://localhost:8080/"
        },
        "id": "ZVhq0Wl9WKqU",
        "outputId": "0b1c3239-5037-426f-ca23-9cf6ae1c1e8c"
      },
      "execution_count": 80,
      "outputs": [
        {
          "output_type": "execute_result",
          "data": {
            "text/plain": [
              "Index(['GRE Score', 'TOEFL Score'], dtype='object')"
            ]
          },
          "metadata": {},
          "execution_count": 80
        }
      ]
    },
    {
      "cell_type": "code",
      "source": [
        "# Подбор лучшей модели на обучающей выборке с отфильтрованными признаками\n",
        "X_train_filtered = X_train[selected_features]\n",
        "X_test_filtered = X_test[selected_features]\n",
        "\n",
        "grid_search.fit(X_train_filtered, y_train)"
      ],
      "metadata": {
        "colab": {
          "base_uri": "https://localhost:8080/",
          "height": 118
        },
        "id": "apXyxYNZzdgG",
        "outputId": "0cbc18b7-0cff-4e9f-c451-27b4f47afe34"
      },
      "execution_count": 81,
      "outputs": [
        {
          "output_type": "execute_result",
          "data": {
            "text/plain": [
              "GridSearchCV(cv=5, estimator=DecisionTreeClassifier(),\n",
              "             param_grid={'max_depth': [3, 4, 5, 6, 7, 8, 9, 10],\n",
              "                         'max_features': range(2, 8)})"
            ],
            "text/html": [
              "<style>#sk-container-id-9 {color: black;background-color: white;}#sk-container-id-9 pre{padding: 0;}#sk-container-id-9 div.sk-toggleable {background-color: white;}#sk-container-id-9 label.sk-toggleable__label {cursor: pointer;display: block;width: 100%;margin-bottom: 0;padding: 0.3em;box-sizing: border-box;text-align: center;}#sk-container-id-9 label.sk-toggleable__label-arrow:before {content: \"▸\";float: left;margin-right: 0.25em;color: #696969;}#sk-container-id-9 label.sk-toggleable__label-arrow:hover:before {color: black;}#sk-container-id-9 div.sk-estimator:hover label.sk-toggleable__label-arrow:before {color: black;}#sk-container-id-9 div.sk-toggleable__content {max-height: 0;max-width: 0;overflow: hidden;text-align: left;background-color: #f0f8ff;}#sk-container-id-9 div.sk-toggleable__content pre {margin: 0.2em;color: black;border-radius: 0.25em;background-color: #f0f8ff;}#sk-container-id-9 input.sk-toggleable__control:checked~div.sk-toggleable__content {max-height: 200px;max-width: 100%;overflow: auto;}#sk-container-id-9 input.sk-toggleable__control:checked~label.sk-toggleable__label-arrow:before {content: \"▾\";}#sk-container-id-9 div.sk-estimator input.sk-toggleable__control:checked~label.sk-toggleable__label {background-color: #d4ebff;}#sk-container-id-9 div.sk-label input.sk-toggleable__control:checked~label.sk-toggleable__label {background-color: #d4ebff;}#sk-container-id-9 input.sk-hidden--visually {border: 0;clip: rect(1px 1px 1px 1px);clip: rect(1px, 1px, 1px, 1px);height: 1px;margin: -1px;overflow: hidden;padding: 0;position: absolute;width: 1px;}#sk-container-id-9 div.sk-estimator {font-family: monospace;background-color: #f0f8ff;border: 1px dotted black;border-radius: 0.25em;box-sizing: border-box;margin-bottom: 0.5em;}#sk-container-id-9 div.sk-estimator:hover {background-color: #d4ebff;}#sk-container-id-9 div.sk-parallel-item::after {content: \"\";width: 100%;border-bottom: 1px solid gray;flex-grow: 1;}#sk-container-id-9 div.sk-label:hover label.sk-toggleable__label {background-color: #d4ebff;}#sk-container-id-9 div.sk-serial::before {content: \"\";position: absolute;border-left: 1px solid gray;box-sizing: border-box;top: 0;bottom: 0;left: 50%;z-index: 0;}#sk-container-id-9 div.sk-serial {display: flex;flex-direction: column;align-items: center;background-color: white;padding-right: 0.2em;padding-left: 0.2em;position: relative;}#sk-container-id-9 div.sk-item {position: relative;z-index: 1;}#sk-container-id-9 div.sk-parallel {display: flex;align-items: stretch;justify-content: center;background-color: white;position: relative;}#sk-container-id-9 div.sk-item::before, #sk-container-id-9 div.sk-parallel-item::before {content: \"\";position: absolute;border-left: 1px solid gray;box-sizing: border-box;top: 0;bottom: 0;left: 50%;z-index: -1;}#sk-container-id-9 div.sk-parallel-item {display: flex;flex-direction: column;z-index: 1;position: relative;background-color: white;}#sk-container-id-9 div.sk-parallel-item:first-child::after {align-self: flex-end;width: 50%;}#sk-container-id-9 div.sk-parallel-item:last-child::after {align-self: flex-start;width: 50%;}#sk-container-id-9 div.sk-parallel-item:only-child::after {width: 0;}#sk-container-id-9 div.sk-dashed-wrapped {border: 1px dashed gray;margin: 0 0.4em 0.5em 0.4em;box-sizing: border-box;padding-bottom: 0.4em;background-color: white;}#sk-container-id-9 div.sk-label label {font-family: monospace;font-weight: bold;display: inline-block;line-height: 1.2em;}#sk-container-id-9 div.sk-label-container {text-align: center;}#sk-container-id-9 div.sk-container {/* jupyter's `normalize.less` sets `[hidden] { display: none; }` but bootstrap.min.css set `[hidden] { display: none !important; }` so we also need the `!important` here to be able to override the default hidden behavior on the sphinx rendered scikit-learn.org. See: https://github.com/scikit-learn/scikit-learn/issues/21755 */display: inline-block !important;position: relative;}#sk-container-id-9 div.sk-text-repr-fallback {display: none;}</style><div id=\"sk-container-id-9\" class=\"sk-top-container\"><div class=\"sk-text-repr-fallback\"><pre>GridSearchCV(cv=5, estimator=DecisionTreeClassifier(),\n",
              "             param_grid={&#x27;max_depth&#x27;: [3, 4, 5, 6, 7, 8, 9, 10],\n",
              "                         &#x27;max_features&#x27;: range(2, 8)})</pre><b>In a Jupyter environment, please rerun this cell to show the HTML representation or trust the notebook. <br />On GitHub, the HTML representation is unable to render, please try loading this page with nbviewer.org.</b></div><div class=\"sk-container\" hidden><div class=\"sk-item sk-dashed-wrapped\"><div class=\"sk-label-container\"><div class=\"sk-label sk-toggleable\"><input class=\"sk-toggleable__control sk-hidden--visually\" id=\"sk-estimator-id-25\" type=\"checkbox\" ><label for=\"sk-estimator-id-25\" class=\"sk-toggleable__label sk-toggleable__label-arrow\">GridSearchCV</label><div class=\"sk-toggleable__content\"><pre>GridSearchCV(cv=5, estimator=DecisionTreeClassifier(),\n",
              "             param_grid={&#x27;max_depth&#x27;: [3, 4, 5, 6, 7, 8, 9, 10],\n",
              "                         &#x27;max_features&#x27;: range(2, 8)})</pre></div></div></div><div class=\"sk-parallel\"><div class=\"sk-parallel-item\"><div class=\"sk-item\"><div class=\"sk-label-container\"><div class=\"sk-label sk-toggleable\"><input class=\"sk-toggleable__control sk-hidden--visually\" id=\"sk-estimator-id-26\" type=\"checkbox\" ><label for=\"sk-estimator-id-26\" class=\"sk-toggleable__label sk-toggleable__label-arrow\">estimator: DecisionTreeClassifier</label><div class=\"sk-toggleable__content\"><pre>DecisionTreeClassifier()</pre></div></div></div><div class=\"sk-serial\"><div class=\"sk-item\"><div class=\"sk-estimator sk-toggleable\"><input class=\"sk-toggleable__control sk-hidden--visually\" id=\"sk-estimator-id-27\" type=\"checkbox\" ><label for=\"sk-estimator-id-27\" class=\"sk-toggleable__label sk-toggleable__label-arrow\">DecisionTreeClassifier</label><div class=\"sk-toggleable__content\"><pre>DecisionTreeClassifier()</pre></div></div></div></div></div></div></div></div></div></div>"
            ]
          },
          "metadata": {},
          "execution_count": 81
        }
      ]
    },
    {
      "cell_type": "code",
      "source": [
        "# Полученные гиперпараметры лучшей модели\n",
        "print(\"Best hyperparameters after feature selection:\", grid_search.best_params_)\n",
        "y_pred_filtered = grid_search.predict(X_test_filtered)\n",
        "print(\"Accuracy after feature selection:\", accuracy_score(y_test, y_pred_filtered))\n",
        "print(\"Precision after feature selection:\", precision_score(y_test, y_pred_filtered))\n",
        "print(\"Recall after feature selection:\", recall_score(y_test, y_pred_filtered))\n",
        "print(\"F1 Score after feature selection:\", f1_score(y_test, y_pred_filtered))"
      ],
      "metadata": {
        "colab": {
          "base_uri": "https://localhost:8080/"
        },
        "id": "jwCKKt9KzkSk",
        "outputId": "78c07ea1-f455-4c75-ee11-619fe2029873"
      },
      "execution_count": 82,
      "outputs": [
        {
          "output_type": "stream",
          "name": "stdout",
          "text": [
            "Best hyperparameters after feature selection: {'max_depth': 3, 'max_features': 2}\n",
            "Accuracy after feature selection: 0.8875\n",
            "Precision after feature selection: 0.8529411764705882\n",
            "Recall after feature selection: 0.8787878787878788\n",
            "F1 Score after feature selection: 0.8656716417910447\n"
          ]
        }
      ]
    },
    {
      "cell_type": "markdown",
      "source": [
        "Сравнение метрик до и после фильтрации признаков"
      ],
      "metadata": {
        "id": "bJvomYmqzl53"
      }
    },
    {
      "cell_type": "code",
      "source": [
        "# Сравнение метрик до и после фильтрации признаков\n",
        "\n",
        "# Метрики до фильтрации\n",
        "print(\"Метрики до фильтрации:\")\n",
        "print(\"Accuracy до:\", accuracy_score(y_test, y_pred))\n",
        "print(\"Precision до:\", precision_score(y_test, y_pred))\n",
        "print(\"Recall до:\", recall_score(y_test, y_pred))\n",
        "print(\"F1 Score до:\", f1_score(y_test, y_pred))\n",
        "\n",
        "# Метрики после фильтрации\n",
        "print(\"\\nМетрики после фильтрации:\")\n",
        "print(\"Accuracy после:\", accuracy_score(y_test, y_pred_filtered))\n",
        "print(\"Precision после:\", precision_score(y_test, y_pred_filtered))\n",
        "print(\"Recall после:\", recall_score(y_test, y_pred_filtered))\n",
        "print(\"F1 Score после:\", f1_score(y_test, y_pred_filtered))"
      ],
      "metadata": {
        "colab": {
          "base_uri": "https://localhost:8080/"
        },
        "id": "kXqxmJzZWbo3",
        "outputId": "010fb754-b7eb-4efb-d8ef-cd154fe00e95"
      },
      "execution_count": 83,
      "outputs": [
        {
          "output_type": "stream",
          "name": "stdout",
          "text": [
            "Метрики до фильтрации:\n",
            "Accuracy до: 0.85\n",
            "Precision до: 0.7837837837837838\n",
            "Recall до: 0.8787878787878788\n",
            "F1 Score до: 0.8285714285714285\n",
            "\n",
            "Метрики после фильтрации:\n",
            "Accuracy после: 0.8875\n",
            "Precision после: 0.8529411764705882\n",
            "Recall после: 0.8787878787878788\n",
            "F1 Score после: 0.8656716417910447\n"
          ]
        }
      ]
    },
    {
      "cell_type": "markdown",
      "source": [
        "После фильтрации метрики немного улучшились"
      ],
      "metadata": {
        "id": "rHm6ZyrTzoyI"
      }
    },
    {
      "cell_type": "markdown",
      "source": [
        "**Случайный лес**"
      ],
      "metadata": {
        "id": "i5BxZ2YLzsJA"
      }
    },
    {
      "cell_type": "code",
      "source": [
        "from sklearn.ensemble import RandomForestClassifier\n",
        "from sklearn.model_selection import GridSearchCV\n",
        "import numpy as np\n",
        "from sklearn.feature_selection import SelectFromModel"
      ],
      "metadata": {
        "id": "SnPB44-zz6RP"
      },
      "execution_count": 90,
      "outputs": []
    },
    {
      "cell_type": "code",
      "source": [
        "rf = RandomForestClassifier()\n",
        "param_grid = {\n",
        "    'n_estimators': range(10, 150, 5),\n",
        "    'max_depth': range(1, 8),\n",
        "}"
      ],
      "metadata": {
        "id": "1QRT0iClz3h2"
      },
      "execution_count": 86,
      "outputs": []
    },
    {
      "cell_type": "code",
      "source": [
        "grid_search = GridSearchCV(rf, param_grid, cv=5)\n",
        "grid_search.fit(X_train, y_train)"
      ],
      "metadata": {
        "colab": {
          "base_uri": "https://localhost:8080/",
          "height": 118
        },
        "id": "IVlwphKCz4bF",
        "outputId": "7cc16cf1-e651-4f47-bbd4-4f8478d8ee66"
      },
      "execution_count": 87,
      "outputs": [
        {
          "output_type": "execute_result",
          "data": {
            "text/plain": [
              "GridSearchCV(cv=5, estimator=RandomForestClassifier(),\n",
              "             param_grid={'max_depth': range(1, 8),\n",
              "                         'n_estimators': range(10, 150, 5)})"
            ],
            "text/html": [
              "<style>#sk-container-id-10 {color: black;background-color: white;}#sk-container-id-10 pre{padding: 0;}#sk-container-id-10 div.sk-toggleable {background-color: white;}#sk-container-id-10 label.sk-toggleable__label {cursor: pointer;display: block;width: 100%;margin-bottom: 0;padding: 0.3em;box-sizing: border-box;text-align: center;}#sk-container-id-10 label.sk-toggleable__label-arrow:before {content: \"▸\";float: left;margin-right: 0.25em;color: #696969;}#sk-container-id-10 label.sk-toggleable__label-arrow:hover:before {color: black;}#sk-container-id-10 div.sk-estimator:hover label.sk-toggleable__label-arrow:before {color: black;}#sk-container-id-10 div.sk-toggleable__content {max-height: 0;max-width: 0;overflow: hidden;text-align: left;background-color: #f0f8ff;}#sk-container-id-10 div.sk-toggleable__content pre {margin: 0.2em;color: black;border-radius: 0.25em;background-color: #f0f8ff;}#sk-container-id-10 input.sk-toggleable__control:checked~div.sk-toggleable__content {max-height: 200px;max-width: 100%;overflow: auto;}#sk-container-id-10 input.sk-toggleable__control:checked~label.sk-toggleable__label-arrow:before {content: \"▾\";}#sk-container-id-10 div.sk-estimator input.sk-toggleable__control:checked~label.sk-toggleable__label {background-color: #d4ebff;}#sk-container-id-10 div.sk-label input.sk-toggleable__control:checked~label.sk-toggleable__label {background-color: #d4ebff;}#sk-container-id-10 input.sk-hidden--visually {border: 0;clip: rect(1px 1px 1px 1px);clip: rect(1px, 1px, 1px, 1px);height: 1px;margin: -1px;overflow: hidden;padding: 0;position: absolute;width: 1px;}#sk-container-id-10 div.sk-estimator {font-family: monospace;background-color: #f0f8ff;border: 1px dotted black;border-radius: 0.25em;box-sizing: border-box;margin-bottom: 0.5em;}#sk-container-id-10 div.sk-estimator:hover {background-color: #d4ebff;}#sk-container-id-10 div.sk-parallel-item::after {content: \"\";width: 100%;border-bottom: 1px solid gray;flex-grow: 1;}#sk-container-id-10 div.sk-label:hover label.sk-toggleable__label {background-color: #d4ebff;}#sk-container-id-10 div.sk-serial::before {content: \"\";position: absolute;border-left: 1px solid gray;box-sizing: border-box;top: 0;bottom: 0;left: 50%;z-index: 0;}#sk-container-id-10 div.sk-serial {display: flex;flex-direction: column;align-items: center;background-color: white;padding-right: 0.2em;padding-left: 0.2em;position: relative;}#sk-container-id-10 div.sk-item {position: relative;z-index: 1;}#sk-container-id-10 div.sk-parallel {display: flex;align-items: stretch;justify-content: center;background-color: white;position: relative;}#sk-container-id-10 div.sk-item::before, #sk-container-id-10 div.sk-parallel-item::before {content: \"\";position: absolute;border-left: 1px solid gray;box-sizing: border-box;top: 0;bottom: 0;left: 50%;z-index: -1;}#sk-container-id-10 div.sk-parallel-item {display: flex;flex-direction: column;z-index: 1;position: relative;background-color: white;}#sk-container-id-10 div.sk-parallel-item:first-child::after {align-self: flex-end;width: 50%;}#sk-container-id-10 div.sk-parallel-item:last-child::after {align-self: flex-start;width: 50%;}#sk-container-id-10 div.sk-parallel-item:only-child::after {width: 0;}#sk-container-id-10 div.sk-dashed-wrapped {border: 1px dashed gray;margin: 0 0.4em 0.5em 0.4em;box-sizing: border-box;padding-bottom: 0.4em;background-color: white;}#sk-container-id-10 div.sk-label label {font-family: monospace;font-weight: bold;display: inline-block;line-height: 1.2em;}#sk-container-id-10 div.sk-label-container {text-align: center;}#sk-container-id-10 div.sk-container {/* jupyter's `normalize.less` sets `[hidden] { display: none; }` but bootstrap.min.css set `[hidden] { display: none !important; }` so we also need the `!important` here to be able to override the default hidden behavior on the sphinx rendered scikit-learn.org. See: https://github.com/scikit-learn/scikit-learn/issues/21755 */display: inline-block !important;position: relative;}#sk-container-id-10 div.sk-text-repr-fallback {display: none;}</style><div id=\"sk-container-id-10\" class=\"sk-top-container\"><div class=\"sk-text-repr-fallback\"><pre>GridSearchCV(cv=5, estimator=RandomForestClassifier(),\n",
              "             param_grid={&#x27;max_depth&#x27;: range(1, 8),\n",
              "                         &#x27;n_estimators&#x27;: range(10, 150, 5)})</pre><b>In a Jupyter environment, please rerun this cell to show the HTML representation or trust the notebook. <br />On GitHub, the HTML representation is unable to render, please try loading this page with nbviewer.org.</b></div><div class=\"sk-container\" hidden><div class=\"sk-item sk-dashed-wrapped\"><div class=\"sk-label-container\"><div class=\"sk-label sk-toggleable\"><input class=\"sk-toggleable__control sk-hidden--visually\" id=\"sk-estimator-id-28\" type=\"checkbox\" ><label for=\"sk-estimator-id-28\" class=\"sk-toggleable__label sk-toggleable__label-arrow\">GridSearchCV</label><div class=\"sk-toggleable__content\"><pre>GridSearchCV(cv=5, estimator=RandomForestClassifier(),\n",
              "             param_grid={&#x27;max_depth&#x27;: range(1, 8),\n",
              "                         &#x27;n_estimators&#x27;: range(10, 150, 5)})</pre></div></div></div><div class=\"sk-parallel\"><div class=\"sk-parallel-item\"><div class=\"sk-item\"><div class=\"sk-label-container\"><div class=\"sk-label sk-toggleable\"><input class=\"sk-toggleable__control sk-hidden--visually\" id=\"sk-estimator-id-29\" type=\"checkbox\" ><label for=\"sk-estimator-id-29\" class=\"sk-toggleable__label sk-toggleable__label-arrow\">estimator: RandomForestClassifier</label><div class=\"sk-toggleable__content\"><pre>RandomForestClassifier()</pre></div></div></div><div class=\"sk-serial\"><div class=\"sk-item\"><div class=\"sk-estimator sk-toggleable\"><input class=\"sk-toggleable__control sk-hidden--visually\" id=\"sk-estimator-id-30\" type=\"checkbox\" ><label for=\"sk-estimator-id-30\" class=\"sk-toggleable__label sk-toggleable__label-arrow\">RandomForestClassifier</label><div class=\"sk-toggleable__content\"><pre>RandomForestClassifier()</pre></div></div></div></div></div></div></div></div></div></div>"
            ]
          },
          "metadata": {},
          "execution_count": 87
        }
      ]
    },
    {
      "cell_type": "markdown",
      "source": [
        "![image.png](data:image/png;base64,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)"
      ],
      "metadata": {
        "id": "6WAYoIi7D8ab"
      }
    },
    {
      "cell_type": "markdown",
      "source": [
        "Вывод параметров лучшей модели случайного леса"
      ],
      "metadata": {
        "id": "ArMAqaJMz-2q"
      }
    },
    {
      "cell_type": "code",
      "source": [
        "# Вывод гиперпараметров лучшей модели случайного леса\n",
        "print(\"Лучшие гиперпараметры случайного леса:\")\n",
        "print(grid_search.best_params_)"
      ],
      "metadata": {
        "colab": {
          "base_uri": "https://localhost:8080/"
        },
        "id": "WL1xAEzlz9CX",
        "outputId": "085f0e40-4a3b-48db-b3d3-f26c7dfe3c06"
      },
      "execution_count": 88,
      "outputs": [
        {
          "output_type": "stream",
          "name": "stdout",
          "text": [
            "Лучшие гиперпараметры случайного леса:\n",
            "{'max_depth': 2, 'n_estimators': 10}\n"
          ]
        }
      ]
    },
    {
      "cell_type": "code",
      "source": [
        "# Фильтрация признаков\n",
        "sfm = SelectFromModel(grid_search.best_estimator_)\n",
        "X_train_filtered = sfm.fit_transform(X_train, y_train)\n",
        "X_test_filtered = sfm.transform(X_test)"
      ],
      "metadata": {
        "id": "xjgUismc0A8V"
      },
      "execution_count": 91,
      "outputs": []
    },
    {
      "cell_type": "markdown",
      "source": [
        "Подбор лучшей модели случайного леса на отфильтрованных признаках"
      ],
      "metadata": {
        "id": "Ofug40p90CFE"
      }
    },
    {
      "cell_type": "code",
      "source": [
        "# Подбор лучшей модели с использованием GridSearchCV на отфильтрованных признаках\n",
        "grid_search_filtered = GridSearchCV(rf, param_grid, cv=5)\n",
        "grid_search_filtered.fit(X_train_filtered, y_train)"
      ],
      "metadata": {
        "colab": {
          "base_uri": "https://localhost:8080/",
          "height": 118
        },
        "id": "kHBz6FnH0CrL",
        "outputId": "13adf2ec-be1a-4c6b-a0ee-5621caf3e825"
      },
      "execution_count": 92,
      "outputs": [
        {
          "output_type": "execute_result",
          "data": {
            "text/plain": [
              "GridSearchCV(cv=5, estimator=RandomForestClassifier(),\n",
              "             param_grid={'max_depth': range(1, 8),\n",
              "                         'n_estimators': range(10, 150, 5)})"
            ],
            "text/html": [
              "<style>#sk-container-id-11 {color: black;background-color: white;}#sk-container-id-11 pre{padding: 0;}#sk-container-id-11 div.sk-toggleable {background-color: white;}#sk-container-id-11 label.sk-toggleable__label {cursor: pointer;display: block;width: 100%;margin-bottom: 0;padding: 0.3em;box-sizing: border-box;text-align: center;}#sk-container-id-11 label.sk-toggleable__label-arrow:before {content: \"▸\";float: left;margin-right: 0.25em;color: #696969;}#sk-container-id-11 label.sk-toggleable__label-arrow:hover:before {color: black;}#sk-container-id-11 div.sk-estimator:hover label.sk-toggleable__label-arrow:before {color: black;}#sk-container-id-11 div.sk-toggleable__content {max-height: 0;max-width: 0;overflow: hidden;text-align: left;background-color: #f0f8ff;}#sk-container-id-11 div.sk-toggleable__content pre {margin: 0.2em;color: black;border-radius: 0.25em;background-color: #f0f8ff;}#sk-container-id-11 input.sk-toggleable__control:checked~div.sk-toggleable__content {max-height: 200px;max-width: 100%;overflow: auto;}#sk-container-id-11 input.sk-toggleable__control:checked~label.sk-toggleable__label-arrow:before {content: \"▾\";}#sk-container-id-11 div.sk-estimator input.sk-toggleable__control:checked~label.sk-toggleable__label {background-color: #d4ebff;}#sk-container-id-11 div.sk-label input.sk-toggleable__control:checked~label.sk-toggleable__label {background-color: #d4ebff;}#sk-container-id-11 input.sk-hidden--visually {border: 0;clip: rect(1px 1px 1px 1px);clip: rect(1px, 1px, 1px, 1px);height: 1px;margin: -1px;overflow: hidden;padding: 0;position: absolute;width: 1px;}#sk-container-id-11 div.sk-estimator {font-family: monospace;background-color: #f0f8ff;border: 1px dotted black;border-radius: 0.25em;box-sizing: border-box;margin-bottom: 0.5em;}#sk-container-id-11 div.sk-estimator:hover {background-color: #d4ebff;}#sk-container-id-11 div.sk-parallel-item::after {content: \"\";width: 100%;border-bottom: 1px solid gray;flex-grow: 1;}#sk-container-id-11 div.sk-label:hover label.sk-toggleable__label {background-color: #d4ebff;}#sk-container-id-11 div.sk-serial::before {content: \"\";position: absolute;border-left: 1px solid gray;box-sizing: border-box;top: 0;bottom: 0;left: 50%;z-index: 0;}#sk-container-id-11 div.sk-serial {display: flex;flex-direction: column;align-items: center;background-color: white;padding-right: 0.2em;padding-left: 0.2em;position: relative;}#sk-container-id-11 div.sk-item {position: relative;z-index: 1;}#sk-container-id-11 div.sk-parallel {display: flex;align-items: stretch;justify-content: center;background-color: white;position: relative;}#sk-container-id-11 div.sk-item::before, #sk-container-id-11 div.sk-parallel-item::before {content: \"\";position: absolute;border-left: 1px solid gray;box-sizing: border-box;top: 0;bottom: 0;left: 50%;z-index: -1;}#sk-container-id-11 div.sk-parallel-item {display: flex;flex-direction: column;z-index: 1;position: relative;background-color: white;}#sk-container-id-11 div.sk-parallel-item:first-child::after {align-self: flex-end;width: 50%;}#sk-container-id-11 div.sk-parallel-item:last-child::after {align-self: flex-start;width: 50%;}#sk-container-id-11 div.sk-parallel-item:only-child::after {width: 0;}#sk-container-id-11 div.sk-dashed-wrapped {border: 1px dashed gray;margin: 0 0.4em 0.5em 0.4em;box-sizing: border-box;padding-bottom: 0.4em;background-color: white;}#sk-container-id-11 div.sk-label label {font-family: monospace;font-weight: bold;display: inline-block;line-height: 1.2em;}#sk-container-id-11 div.sk-label-container {text-align: center;}#sk-container-id-11 div.sk-container {/* jupyter's `normalize.less` sets `[hidden] { display: none; }` but bootstrap.min.css set `[hidden] { display: none !important; }` so we also need the `!important` here to be able to override the default hidden behavior on the sphinx rendered scikit-learn.org. See: https://github.com/scikit-learn/scikit-learn/issues/21755 */display: inline-block !important;position: relative;}#sk-container-id-11 div.sk-text-repr-fallback {display: none;}</style><div id=\"sk-container-id-11\" class=\"sk-top-container\"><div class=\"sk-text-repr-fallback\"><pre>GridSearchCV(cv=5, estimator=RandomForestClassifier(),\n",
              "             param_grid={&#x27;max_depth&#x27;: range(1, 8),\n",
              "                         &#x27;n_estimators&#x27;: range(10, 150, 5)})</pre><b>In a Jupyter environment, please rerun this cell to show the HTML representation or trust the notebook. <br />On GitHub, the HTML representation is unable to render, please try loading this page with nbviewer.org.</b></div><div class=\"sk-container\" hidden><div class=\"sk-item sk-dashed-wrapped\"><div class=\"sk-label-container\"><div class=\"sk-label sk-toggleable\"><input class=\"sk-toggleable__control sk-hidden--visually\" id=\"sk-estimator-id-31\" type=\"checkbox\" ><label for=\"sk-estimator-id-31\" class=\"sk-toggleable__label sk-toggleable__label-arrow\">GridSearchCV</label><div class=\"sk-toggleable__content\"><pre>GridSearchCV(cv=5, estimator=RandomForestClassifier(),\n",
              "             param_grid={&#x27;max_depth&#x27;: range(1, 8),\n",
              "                         &#x27;n_estimators&#x27;: range(10, 150, 5)})</pre></div></div></div><div class=\"sk-parallel\"><div class=\"sk-parallel-item\"><div class=\"sk-item\"><div class=\"sk-label-container\"><div class=\"sk-label sk-toggleable\"><input class=\"sk-toggleable__control sk-hidden--visually\" id=\"sk-estimator-id-32\" type=\"checkbox\" ><label for=\"sk-estimator-id-32\" class=\"sk-toggleable__label sk-toggleable__label-arrow\">estimator: RandomForestClassifier</label><div class=\"sk-toggleable__content\"><pre>RandomForestClassifier()</pre></div></div></div><div class=\"sk-serial\"><div class=\"sk-item\"><div class=\"sk-estimator sk-toggleable\"><input class=\"sk-toggleable__control sk-hidden--visually\" id=\"sk-estimator-id-33\" type=\"checkbox\" ><label for=\"sk-estimator-id-33\" class=\"sk-toggleable__label sk-toggleable__label-arrow\">RandomForestClassifier</label><div class=\"sk-toggleable__content\"><pre>RandomForestClassifier()</pre></div></div></div></div></div></div></div></div></div></div>"
            ]
          },
          "metadata": {},
          "execution_count": 92
        }
      ]
    },
    {
      "cell_type": "code",
      "source": [
        "# Вывод гиперпараметров лучшей модели случайного леса после фильтрации\n",
        "print(\"\\nЛучшие гиперпараметры случайного леса после фильтрации:\")\n",
        "print(grid_search_filtered.best_params_)"
      ],
      "metadata": {
        "colab": {
          "base_uri": "https://localhost:8080/"
        },
        "id": "yD9pg9ggaHD9",
        "outputId": "b3a4ffbc-ba8f-4a3d-eacb-af454afdd63a"
      },
      "execution_count": 93,
      "outputs": [
        {
          "output_type": "stream",
          "name": "stdout",
          "text": [
            "\n",
            "Лучшие гиперпараметры случайного леса после фильтрации:\n",
            "{'max_depth': 4, 'n_estimators': 70}\n"
          ]
        }
      ]
    },
    {
      "cell_type": "markdown",
      "source": [
        "Сравнение метрик до и после фильтрации признаков лучших моделей"
      ],
      "metadata": {
        "id": "egfVkDnW0HCx"
      }
    },
    {
      "cell_type": "code",
      "source": [
        "# Сравнение метрик до и после фильтрации признаков\n",
        "y_pred = grid_search.best_estimator_.predict(X_test)\n",
        "y_pred_filtered = grid_search_filtered.best_estimator_.predict(X_test_filtered)\n",
        "\n",
        "# Метрики до и после фильтрации\n",
        "print(\"\\nМетрики до фильтрации:\")\n",
        "print(\"Accuracy до:\", accuracy_score(y_test, y_pred))\n",
        "print(\"F1 Score до:\", f1_score(y_test, y_pred))\n",
        "\n",
        "print(\"\\nМетрики после фильтрации:\")\n",
        "print(\"Accuracy после:\", accuracy_score(y_test, y_pred_filtered))\n",
        "print(\"F1 Score после:\", f1_score(y_test, y_pred_filtered))"
      ],
      "metadata": {
        "colab": {
          "base_uri": "https://localhost:8080/"
        },
        "id": "uD2L1LYr0D7O",
        "outputId": "0c6bc0a8-f190-4dbc-8354-7e839183c6ad"
      },
      "execution_count": 94,
      "outputs": [
        {
          "output_type": "stream",
          "name": "stdout",
          "text": [
            "\n",
            "Метрики до фильтрации:\n",
            "Accuracy до: 0.9375\n",
            "F1 Score до: 0.923076923076923\n",
            "\n",
            "Метрики после фильтрации:\n",
            "Accuracy после: 0.8625\n",
            "F1 Score после: 0.8405797101449276\n"
          ]
        }
      ]
    },
    {
      "cell_type": "markdown",
      "source": [
        "Метрики после фильтрации заметно ухудшились"
      ],
      "metadata": {
        "id": "dJcFN_4XbYZX"
      }
    },
    {
      "cell_type": "markdown",
      "source": [
        "**Метод ближайших соседей:**"
      ],
      "metadata": {
        "id": "zCAXCDubbu-l"
      }
    },
    {
      "cell_type": "code",
      "source": [
        "from sklearn.neighbors import KNeighborsClassifier"
      ],
      "metadata": {
        "id": "6YJcMbY0br_l"
      },
      "execution_count": 95,
      "outputs": []
    },
    {
      "cell_type": "code",
      "source": [
        "knn_model = KNeighborsClassifier()\n",
        "\n",
        "knn_grid = {'n_neighbors': range(2, 50)}\n",
        "\n",
        "knn_search = GridSearchCV(knn_model, knn_grid, cv = 10, n_jobs=-1, verbose=2)\n",
        "knn_search.fit(X_train, y_train)"
      ],
      "metadata": {
        "colab": {
          "base_uri": "https://localhost:8080/",
          "height": 135
        },
        "id": "GjdREBidbz_D",
        "outputId": "3633637e-c846-45fd-d5ce-ca207cb2c289"
      },
      "execution_count": 107,
      "outputs": [
        {
          "output_type": "stream",
          "name": "stdout",
          "text": [
            "Fitting 10 folds for each of 48 candidates, totalling 480 fits\n"
          ]
        },
        {
          "output_type": "execute_result",
          "data": {
            "text/plain": [
              "GridSearchCV(cv=10, estimator=KNeighborsClassifier(), n_jobs=-1,\n",
              "             param_grid={'n_neighbors': range(2, 50)}, verbose=2)"
            ],
            "text/html": [
              "<style>#sk-container-id-15 {color: black;background-color: white;}#sk-container-id-15 pre{padding: 0;}#sk-container-id-15 div.sk-toggleable {background-color: white;}#sk-container-id-15 label.sk-toggleable__label {cursor: pointer;display: block;width: 100%;margin-bottom: 0;padding: 0.3em;box-sizing: border-box;text-align: center;}#sk-container-id-15 label.sk-toggleable__label-arrow:before {content: \"▸\";float: left;margin-right: 0.25em;color: #696969;}#sk-container-id-15 label.sk-toggleable__label-arrow:hover:before {color: black;}#sk-container-id-15 div.sk-estimator:hover label.sk-toggleable__label-arrow:before {color: black;}#sk-container-id-15 div.sk-toggleable__content {max-height: 0;max-width: 0;overflow: hidden;text-align: left;background-color: #f0f8ff;}#sk-container-id-15 div.sk-toggleable__content pre {margin: 0.2em;color: black;border-radius: 0.25em;background-color: #f0f8ff;}#sk-container-id-15 input.sk-toggleable__control:checked~div.sk-toggleable__content {max-height: 200px;max-width: 100%;overflow: auto;}#sk-container-id-15 input.sk-toggleable__control:checked~label.sk-toggleable__label-arrow:before {content: \"▾\";}#sk-container-id-15 div.sk-estimator input.sk-toggleable__control:checked~label.sk-toggleable__label {background-color: #d4ebff;}#sk-container-id-15 div.sk-label input.sk-toggleable__control:checked~label.sk-toggleable__label {background-color: #d4ebff;}#sk-container-id-15 input.sk-hidden--visually {border: 0;clip: rect(1px 1px 1px 1px);clip: rect(1px, 1px, 1px, 1px);height: 1px;margin: -1px;overflow: hidden;padding: 0;position: absolute;width: 1px;}#sk-container-id-15 div.sk-estimator {font-family: monospace;background-color: #f0f8ff;border: 1px dotted black;border-radius: 0.25em;box-sizing: border-box;margin-bottom: 0.5em;}#sk-container-id-15 div.sk-estimator:hover {background-color: #d4ebff;}#sk-container-id-15 div.sk-parallel-item::after {content: \"\";width: 100%;border-bottom: 1px solid gray;flex-grow: 1;}#sk-container-id-15 div.sk-label:hover label.sk-toggleable__label {background-color: #d4ebff;}#sk-container-id-15 div.sk-serial::before {content: \"\";position: absolute;border-left: 1px solid gray;box-sizing: border-box;top: 0;bottom: 0;left: 50%;z-index: 0;}#sk-container-id-15 div.sk-serial {display: flex;flex-direction: column;align-items: center;background-color: white;padding-right: 0.2em;padding-left: 0.2em;position: relative;}#sk-container-id-15 div.sk-item {position: relative;z-index: 1;}#sk-container-id-15 div.sk-parallel {display: flex;align-items: stretch;justify-content: center;background-color: white;position: relative;}#sk-container-id-15 div.sk-item::before, #sk-container-id-15 div.sk-parallel-item::before {content: \"\";position: absolute;border-left: 1px solid gray;box-sizing: border-box;top: 0;bottom: 0;left: 50%;z-index: -1;}#sk-container-id-15 div.sk-parallel-item {display: flex;flex-direction: column;z-index: 1;position: relative;background-color: white;}#sk-container-id-15 div.sk-parallel-item:first-child::after {align-self: flex-end;width: 50%;}#sk-container-id-15 div.sk-parallel-item:last-child::after {align-self: flex-start;width: 50%;}#sk-container-id-15 div.sk-parallel-item:only-child::after {width: 0;}#sk-container-id-15 div.sk-dashed-wrapped {border: 1px dashed gray;margin: 0 0.4em 0.5em 0.4em;box-sizing: border-box;padding-bottom: 0.4em;background-color: white;}#sk-container-id-15 div.sk-label label {font-family: monospace;font-weight: bold;display: inline-block;line-height: 1.2em;}#sk-container-id-15 div.sk-label-container {text-align: center;}#sk-container-id-15 div.sk-container {/* jupyter's `normalize.less` sets `[hidden] { display: none; }` but bootstrap.min.css set `[hidden] { display: none !important; }` so we also need the `!important` here to be able to override the default hidden behavior on the sphinx rendered scikit-learn.org. See: https://github.com/scikit-learn/scikit-learn/issues/21755 */display: inline-block !important;position: relative;}#sk-container-id-15 div.sk-text-repr-fallback {display: none;}</style><div id=\"sk-container-id-15\" class=\"sk-top-container\"><div class=\"sk-text-repr-fallback\"><pre>GridSearchCV(cv=10, estimator=KNeighborsClassifier(), n_jobs=-1,\n",
              "             param_grid={&#x27;n_neighbors&#x27;: range(2, 50)}, verbose=2)</pre><b>In a Jupyter environment, please rerun this cell to show the HTML representation or trust the notebook. <br />On GitHub, the HTML representation is unable to render, please try loading this page with nbviewer.org.</b></div><div class=\"sk-container\" hidden><div class=\"sk-item sk-dashed-wrapped\"><div class=\"sk-label-container\"><div class=\"sk-label sk-toggleable\"><input class=\"sk-toggleable__control sk-hidden--visually\" id=\"sk-estimator-id-41\" type=\"checkbox\" ><label for=\"sk-estimator-id-41\" class=\"sk-toggleable__label sk-toggleable__label-arrow\">GridSearchCV</label><div class=\"sk-toggleable__content\"><pre>GridSearchCV(cv=10, estimator=KNeighborsClassifier(), n_jobs=-1,\n",
              "             param_grid={&#x27;n_neighbors&#x27;: range(2, 50)}, verbose=2)</pre></div></div></div><div class=\"sk-parallel\"><div class=\"sk-parallel-item\"><div class=\"sk-item\"><div class=\"sk-label-container\"><div class=\"sk-label sk-toggleable\"><input class=\"sk-toggleable__control sk-hidden--visually\" id=\"sk-estimator-id-42\" type=\"checkbox\" ><label for=\"sk-estimator-id-42\" class=\"sk-toggleable__label sk-toggleable__label-arrow\">estimator: KNeighborsClassifier</label><div class=\"sk-toggleable__content\"><pre>KNeighborsClassifier()</pre></div></div></div><div class=\"sk-serial\"><div class=\"sk-item\"><div class=\"sk-estimator sk-toggleable\"><input class=\"sk-toggleable__control sk-hidden--visually\" id=\"sk-estimator-id-43\" type=\"checkbox\" ><label for=\"sk-estimator-id-43\" class=\"sk-toggleable__label sk-toggleable__label-arrow\">KNeighborsClassifier</label><div class=\"sk-toggleable__content\"><pre>KNeighborsClassifier()</pre></div></div></div></div></div></div></div></div></div></div>"
            ]
          },
          "metadata": {},
          "execution_count": 107
        }
      ]
    },
    {
      "cell_type": "markdown",
      "source": [
        "Вывести значения гиперпараметра и метрик для наилучшей модели."
      ],
      "metadata": {
        "id": "0X5KkkGDeJMt"
      }
    },
    {
      "cell_type": "code",
      "source": [
        "knn_search.best_params_"
      ],
      "metadata": {
        "colab": {
          "base_uri": "https://localhost:8080/"
        },
        "id": "slLLS6ZjeIQ2",
        "outputId": "e0b7df23-6c33-4aba-b38f-9170c2a63032"
      },
      "execution_count": 108,
      "outputs": [
        {
          "output_type": "execute_result",
          "data": {
            "text/plain": [
              "{'n_neighbors': 48}"
            ]
          },
          "metadata": {},
          "execution_count": 108
        }
      ]
    },
    {
      "cell_type": "markdown",
      "source": [
        "Осущестрим фильтрацию признаков"
      ],
      "metadata": {
        "id": "wTVoOXDUeOxk"
      }
    },
    {
      "cell_type": "code",
      "source": [
        "knn_filtered = selected_features\n",
        "x_train_knn_filtered = X_train[knn_filtered]\n",
        "x_train_knn_filtered.head()"
      ],
      "metadata": {
        "colab": {
          "base_uri": "https://localhost:8080/",
          "height": 206
        },
        "id": "hs7HtJ9ueRK6",
        "outputId": "1d2220f6-1f57-495e-acab-abf2538b11a6"
      },
      "execution_count": 110,
      "outputs": [
        {
          "output_type": "execute_result",
          "data": {
            "text/plain": [
              "     GRE Score  TOEFL Score\n",
              "3          322          110\n",
              "18         318          110\n",
              "202        340          120\n",
              "250        320          104\n",
              "274        315          100"
            ],
            "text/html": [
              "\n",
              "  <div id=\"df-bcf72369-8461-41d3-b1ae-15056f0b7ac2\" class=\"colab-df-container\">\n",
              "    <div>\n",
              "<style scoped>\n",
              "    .dataframe tbody tr th:only-of-type {\n",
              "        vertical-align: middle;\n",
              "    }\n",
              "\n",
              "    .dataframe tbody tr th {\n",
              "        vertical-align: top;\n",
              "    }\n",
              "\n",
              "    .dataframe thead th {\n",
              "        text-align: right;\n",
              "    }\n",
              "</style>\n",
              "<table border=\"1\" class=\"dataframe\">\n",
              "  <thead>\n",
              "    <tr style=\"text-align: right;\">\n",
              "      <th></th>\n",
              "      <th>GRE Score</th>\n",
              "      <th>TOEFL Score</th>\n",
              "    </tr>\n",
              "  </thead>\n",
              "  <tbody>\n",
              "    <tr>\n",
              "      <th>3</th>\n",
              "      <td>322</td>\n",
              "      <td>110</td>\n",
              "    </tr>\n",
              "    <tr>\n",
              "      <th>18</th>\n",
              "      <td>318</td>\n",
              "      <td>110</td>\n",
              "    </tr>\n",
              "    <tr>\n",
              "      <th>202</th>\n",
              "      <td>340</td>\n",
              "      <td>120</td>\n",
              "    </tr>\n",
              "    <tr>\n",
              "      <th>250</th>\n",
              "      <td>320</td>\n",
              "      <td>104</td>\n",
              "    </tr>\n",
              "    <tr>\n",
              "      <th>274</th>\n",
              "      <td>315</td>\n",
              "      <td>100</td>\n",
              "    </tr>\n",
              "  </tbody>\n",
              "</table>\n",
              "</div>\n",
              "    <div class=\"colab-df-buttons\">\n",
              "\n",
              "  <div class=\"colab-df-container\">\n",
              "    <button class=\"colab-df-convert\" onclick=\"convertToInteractive('df-bcf72369-8461-41d3-b1ae-15056f0b7ac2')\"\n",
              "            title=\"Convert this dataframe to an interactive table.\"\n",
              "            style=\"display:none;\">\n",
              "\n",
              "  <svg xmlns=\"http://www.w3.org/2000/svg\" height=\"24px\" viewBox=\"0 -960 960 960\">\n",
              "    <path d=\"M120-120v-720h720v720H120Zm60-500h600v-160H180v160Zm220 220h160v-160H400v160Zm0 220h160v-160H400v160ZM180-400h160v-160H180v160Zm440 0h160v-160H620v160ZM180-180h160v-160H180v160Zm440 0h160v-160H620v160Z\"/>\n",
              "  </svg>\n",
              "    </button>\n",
              "\n",
              "  <style>\n",
              "    .colab-df-container {\n",
              "      display:flex;\n",
              "      gap: 12px;\n",
              "    }\n",
              "\n",
              "    .colab-df-convert {\n",
              "      background-color: #E8F0FE;\n",
              "      border: none;\n",
              "      border-radius: 50%;\n",
              "      cursor: pointer;\n",
              "      display: none;\n",
              "      fill: #1967D2;\n",
              "      height: 32px;\n",
              "      padding: 0 0 0 0;\n",
              "      width: 32px;\n",
              "    }\n",
              "\n",
              "    .colab-df-convert:hover {\n",
              "      background-color: #E2EBFA;\n",
              "      box-shadow: 0px 1px 2px rgba(60, 64, 67, 0.3), 0px 1px 3px 1px rgba(60, 64, 67, 0.15);\n",
              "      fill: #174EA6;\n",
              "    }\n",
              "\n",
              "    .colab-df-buttons div {\n",
              "      margin-bottom: 4px;\n",
              "    }\n",
              "\n",
              "    [theme=dark] .colab-df-convert {\n",
              "      background-color: #3B4455;\n",
              "      fill: #D2E3FC;\n",
              "    }\n",
              "\n",
              "    [theme=dark] .colab-df-convert:hover {\n",
              "      background-color: #434B5C;\n",
              "      box-shadow: 0px 1px 3px 1px rgba(0, 0, 0, 0.15);\n",
              "      filter: drop-shadow(0px 1px 2px rgba(0, 0, 0, 0.3));\n",
              "      fill: #FFFFFF;\n",
              "    }\n",
              "  </style>\n",
              "\n",
              "    <script>\n",
              "      const buttonEl =\n",
              "        document.querySelector('#df-bcf72369-8461-41d3-b1ae-15056f0b7ac2 button.colab-df-convert');\n",
              "      buttonEl.style.display =\n",
              "        google.colab.kernel.accessAllowed ? 'block' : 'none';\n",
              "\n",
              "      async function convertToInteractive(key) {\n",
              "        const element = document.querySelector('#df-bcf72369-8461-41d3-b1ae-15056f0b7ac2');\n",
              "        const dataTable =\n",
              "          await google.colab.kernel.invokeFunction('convertToInteractive',\n",
              "                                                    [key], {});\n",
              "        if (!dataTable) return;\n",
              "\n",
              "        const docLinkHtml = 'Like what you see? Visit the ' +\n",
              "          '<a target=\"_blank\" href=https://colab.research.google.com/notebooks/data_table.ipynb>data table notebook</a>'\n",
              "          + ' to learn more about interactive tables.';\n",
              "        element.innerHTML = '';\n",
              "        dataTable['output_type'] = 'display_data';\n",
              "        await google.colab.output.renderOutput(dataTable, element);\n",
              "        const docLink = document.createElement('div');\n",
              "        docLink.innerHTML = docLinkHtml;\n",
              "        element.appendChild(docLink);\n",
              "      }\n",
              "    </script>\n",
              "  </div>\n",
              "\n",
              "\n",
              "<div id=\"df-4e913d46-8ae9-4acc-bf8d-55d5d54cec17\">\n",
              "  <button class=\"colab-df-quickchart\" onclick=\"quickchart('df-4e913d46-8ae9-4acc-bf8d-55d5d54cec17')\"\n",
              "            title=\"Suggest charts\"\n",
              "            style=\"display:none;\">\n",
              "\n",
              "<svg xmlns=\"http://www.w3.org/2000/svg\" height=\"24px\"viewBox=\"0 0 24 24\"\n",
              "     width=\"24px\">\n",
              "    <g>\n",
              "        <path d=\"M19 3H5c-1.1 0-2 .9-2 2v14c0 1.1.9 2 2 2h14c1.1 0 2-.9 2-2V5c0-1.1-.9-2-2-2zM9 17H7v-7h2v7zm4 0h-2V7h2v10zm4 0h-2v-4h2v4z\"/>\n",
              "    </g>\n",
              "</svg>\n",
              "  </button>\n",
              "\n",
              "<style>\n",
              "  .colab-df-quickchart {\n",
              "      --bg-color: #E8F0FE;\n",
              "      --fill-color: #1967D2;\n",
              "      --hover-bg-color: #E2EBFA;\n",
              "      --hover-fill-color: #174EA6;\n",
              "      --disabled-fill-color: #AAA;\n",
              "      --disabled-bg-color: #DDD;\n",
              "  }\n",
              "\n",
              "  [theme=dark] .colab-df-quickchart {\n",
              "      --bg-color: #3B4455;\n",
              "      --fill-color: #D2E3FC;\n",
              "      --hover-bg-color: #434B5C;\n",
              "      --hover-fill-color: #FFFFFF;\n",
              "      --disabled-bg-color: #3B4455;\n",
              "      --disabled-fill-color: #666;\n",
              "  }\n",
              "\n",
              "  .colab-df-quickchart {\n",
              "    background-color: var(--bg-color);\n",
              "    border: none;\n",
              "    border-radius: 50%;\n",
              "    cursor: pointer;\n",
              "    display: none;\n",
              "    fill: var(--fill-color);\n",
              "    height: 32px;\n",
              "    padding: 0;\n",
              "    width: 32px;\n",
              "  }\n",
              "\n",
              "  .colab-df-quickchart:hover {\n",
              "    background-color: var(--hover-bg-color);\n",
              "    box-shadow: 0 1px 2px rgba(60, 64, 67, 0.3), 0 1px 3px 1px rgba(60, 64, 67, 0.15);\n",
              "    fill: var(--button-hover-fill-color);\n",
              "  }\n",
              "\n",
              "  .colab-df-quickchart-complete:disabled,\n",
              "  .colab-df-quickchart-complete:disabled:hover {\n",
              "    background-color: var(--disabled-bg-color);\n",
              "    fill: var(--disabled-fill-color);\n",
              "    box-shadow: none;\n",
              "  }\n",
              "\n",
              "  .colab-df-spinner {\n",
              "    border: 2px solid var(--fill-color);\n",
              "    border-color: transparent;\n",
              "    border-bottom-color: var(--fill-color);\n",
              "    animation:\n",
              "      spin 1s steps(1) infinite;\n",
              "  }\n",
              "\n",
              "  @keyframes spin {\n",
              "    0% {\n",
              "      border-color: transparent;\n",
              "      border-bottom-color: var(--fill-color);\n",
              "      border-left-color: var(--fill-color);\n",
              "    }\n",
              "    20% {\n",
              "      border-color: transparent;\n",
              "      border-left-color: var(--fill-color);\n",
              "      border-top-color: var(--fill-color);\n",
              "    }\n",
              "    30% {\n",
              "      border-color: transparent;\n",
              "      border-left-color: var(--fill-color);\n",
              "      border-top-color: var(--fill-color);\n",
              "      border-right-color: var(--fill-color);\n",
              "    }\n",
              "    40% {\n",
              "      border-color: transparent;\n",
              "      border-right-color: var(--fill-color);\n",
              "      border-top-color: var(--fill-color);\n",
              "    }\n",
              "    60% {\n",
              "      border-color: transparent;\n",
              "      border-right-color: var(--fill-color);\n",
              "    }\n",
              "    80% {\n",
              "      border-color: transparent;\n",
              "      border-right-color: var(--fill-color);\n",
              "      border-bottom-color: var(--fill-color);\n",
              "    }\n",
              "    90% {\n",
              "      border-color: transparent;\n",
              "      border-bottom-color: var(--fill-color);\n",
              "    }\n",
              "  }\n",
              "</style>\n",
              "\n",
              "  <script>\n",
              "    async function quickchart(key) {\n",
              "      const quickchartButtonEl =\n",
              "        document.querySelector('#' + key + ' button');\n",
              "      quickchartButtonEl.disabled = true;  // To prevent multiple clicks.\n",
              "      quickchartButtonEl.classList.add('colab-df-spinner');\n",
              "      try {\n",
              "        const charts = await google.colab.kernel.invokeFunction(\n",
              "            'suggestCharts', [key], {});\n",
              "      } catch (error) {\n",
              "        console.error('Error during call to suggestCharts:', error);\n",
              "      }\n",
              "      quickchartButtonEl.classList.remove('colab-df-spinner');\n",
              "      quickchartButtonEl.classList.add('colab-df-quickchart-complete');\n",
              "    }\n",
              "    (() => {\n",
              "      let quickchartButtonEl =\n",
              "        document.querySelector('#df-4e913d46-8ae9-4acc-bf8d-55d5d54cec17 button');\n",
              "      quickchartButtonEl.style.display =\n",
              "        google.colab.kernel.accessAllowed ? 'block' : 'none';\n",
              "    })();\n",
              "  </script>\n",
              "</div>\n",
              "    </div>\n",
              "  </div>\n"
            ],
            "application/vnd.google.colaboratory.intrinsic+json": {
              "type": "dataframe",
              "variable_name": "x_train_knn_filtered",
              "summary": "{\n  \"name\": \"x_train_knn_filtered\",\n  \"rows\": 320,\n  \"fields\": [\n    {\n      \"column\": \"GRE Score\",\n      \"properties\": {\n        \"dtype\": \"number\",\n        \"std\": 11,\n        \"min\": 290,\n        \"max\": 340,\n        \"num_unique_values\": 48,\n        \"samples\": [\n          336,\n          333,\n          294\n        ],\n        \"semantic_type\": \"\",\n        \"description\": \"\"\n      }\n    },\n    {\n      \"column\": \"TOEFL Score\",\n      \"properties\": {\n        \"dtype\": \"number\",\n        \"std\": 6,\n        \"min\": 92,\n        \"max\": 120,\n        \"num_unique_values\": 29,\n        \"samples\": [\n          95,\n          93,\n          109\n        ],\n        \"semantic_type\": \"\",\n        \"description\": \"\"\n      }\n    }\n  ]\n}"
            }
          },
          "metadata": {},
          "execution_count": 110
        }
      ]
    },
    {
      "cell_type": "markdown",
      "source": [
        "Подберем лучшую модель с использованием GridSearchCV"
      ],
      "metadata": {
        "id": "Mk7HwmhreY1e"
      }
    },
    {
      "cell_type": "code",
      "source": [
        "knn_search_filtered = GridSearchCV(knn_model, knn_grid, cv = 10, n_jobs= -1, verbose= 2)\n",
        "knn_search_filtered.fit(X_train, y_train)"
      ],
      "metadata": {
        "colab": {
          "base_uri": "https://localhost:8080/",
          "height": 135
        },
        "id": "7McXoolqedS6",
        "outputId": "29c2e046-2f09-45f9-dbb8-173c7f1956f8"
      },
      "execution_count": 112,
      "outputs": [
        {
          "output_type": "stream",
          "name": "stdout",
          "text": [
            "Fitting 10 folds for each of 48 candidates, totalling 480 fits\n"
          ]
        },
        {
          "output_type": "execute_result",
          "data": {
            "text/plain": [
              "GridSearchCV(cv=10, estimator=KNeighborsClassifier(), n_jobs=-1,\n",
              "             param_grid={'n_neighbors': range(2, 50)}, verbose=2)"
            ],
            "text/html": [
              "<style>#sk-container-id-16 {color: black;background-color: white;}#sk-container-id-16 pre{padding: 0;}#sk-container-id-16 div.sk-toggleable {background-color: white;}#sk-container-id-16 label.sk-toggleable__label {cursor: pointer;display: block;width: 100%;margin-bottom: 0;padding: 0.3em;box-sizing: border-box;text-align: center;}#sk-container-id-16 label.sk-toggleable__label-arrow:before {content: \"▸\";float: left;margin-right: 0.25em;color: #696969;}#sk-container-id-16 label.sk-toggleable__label-arrow:hover:before {color: black;}#sk-container-id-16 div.sk-estimator:hover label.sk-toggleable__label-arrow:before {color: black;}#sk-container-id-16 div.sk-toggleable__content {max-height: 0;max-width: 0;overflow: hidden;text-align: left;background-color: #f0f8ff;}#sk-container-id-16 div.sk-toggleable__content pre {margin: 0.2em;color: black;border-radius: 0.25em;background-color: #f0f8ff;}#sk-container-id-16 input.sk-toggleable__control:checked~div.sk-toggleable__content {max-height: 200px;max-width: 100%;overflow: auto;}#sk-container-id-16 input.sk-toggleable__control:checked~label.sk-toggleable__label-arrow:before {content: \"▾\";}#sk-container-id-16 div.sk-estimator input.sk-toggleable__control:checked~label.sk-toggleable__label {background-color: #d4ebff;}#sk-container-id-16 div.sk-label input.sk-toggleable__control:checked~label.sk-toggleable__label {background-color: #d4ebff;}#sk-container-id-16 input.sk-hidden--visually {border: 0;clip: rect(1px 1px 1px 1px);clip: rect(1px, 1px, 1px, 1px);height: 1px;margin: -1px;overflow: hidden;padding: 0;position: absolute;width: 1px;}#sk-container-id-16 div.sk-estimator {font-family: monospace;background-color: #f0f8ff;border: 1px dotted black;border-radius: 0.25em;box-sizing: border-box;margin-bottom: 0.5em;}#sk-container-id-16 div.sk-estimator:hover {background-color: #d4ebff;}#sk-container-id-16 div.sk-parallel-item::after {content: \"\";width: 100%;border-bottom: 1px solid gray;flex-grow: 1;}#sk-container-id-16 div.sk-label:hover label.sk-toggleable__label {background-color: #d4ebff;}#sk-container-id-16 div.sk-serial::before {content: \"\";position: absolute;border-left: 1px solid gray;box-sizing: border-box;top: 0;bottom: 0;left: 50%;z-index: 0;}#sk-container-id-16 div.sk-serial {display: flex;flex-direction: column;align-items: center;background-color: white;padding-right: 0.2em;padding-left: 0.2em;position: relative;}#sk-container-id-16 div.sk-item {position: relative;z-index: 1;}#sk-container-id-16 div.sk-parallel {display: flex;align-items: stretch;justify-content: center;background-color: white;position: relative;}#sk-container-id-16 div.sk-item::before, #sk-container-id-16 div.sk-parallel-item::before {content: \"\";position: absolute;border-left: 1px solid gray;box-sizing: border-box;top: 0;bottom: 0;left: 50%;z-index: -1;}#sk-container-id-16 div.sk-parallel-item {display: flex;flex-direction: column;z-index: 1;position: relative;background-color: white;}#sk-container-id-16 div.sk-parallel-item:first-child::after {align-self: flex-end;width: 50%;}#sk-container-id-16 div.sk-parallel-item:last-child::after {align-self: flex-start;width: 50%;}#sk-container-id-16 div.sk-parallel-item:only-child::after {width: 0;}#sk-container-id-16 div.sk-dashed-wrapped {border: 1px dashed gray;margin: 0 0.4em 0.5em 0.4em;box-sizing: border-box;padding-bottom: 0.4em;background-color: white;}#sk-container-id-16 div.sk-label label {font-family: monospace;font-weight: bold;display: inline-block;line-height: 1.2em;}#sk-container-id-16 div.sk-label-container {text-align: center;}#sk-container-id-16 div.sk-container {/* jupyter's `normalize.less` sets `[hidden] { display: none; }` but bootstrap.min.css set `[hidden] { display: none !important; }` so we also need the `!important` here to be able to override the default hidden behavior on the sphinx rendered scikit-learn.org. See: https://github.com/scikit-learn/scikit-learn/issues/21755 */display: inline-block !important;position: relative;}#sk-container-id-16 div.sk-text-repr-fallback {display: none;}</style><div id=\"sk-container-id-16\" class=\"sk-top-container\"><div class=\"sk-text-repr-fallback\"><pre>GridSearchCV(cv=10, estimator=KNeighborsClassifier(), n_jobs=-1,\n",
              "             param_grid={&#x27;n_neighbors&#x27;: range(2, 50)}, verbose=2)</pre><b>In a Jupyter environment, please rerun this cell to show the HTML representation or trust the notebook. <br />On GitHub, the HTML representation is unable to render, please try loading this page with nbviewer.org.</b></div><div class=\"sk-container\" hidden><div class=\"sk-item sk-dashed-wrapped\"><div class=\"sk-label-container\"><div class=\"sk-label sk-toggleable\"><input class=\"sk-toggleable__control sk-hidden--visually\" id=\"sk-estimator-id-44\" type=\"checkbox\" ><label for=\"sk-estimator-id-44\" class=\"sk-toggleable__label sk-toggleable__label-arrow\">GridSearchCV</label><div class=\"sk-toggleable__content\"><pre>GridSearchCV(cv=10, estimator=KNeighborsClassifier(), n_jobs=-1,\n",
              "             param_grid={&#x27;n_neighbors&#x27;: range(2, 50)}, verbose=2)</pre></div></div></div><div class=\"sk-parallel\"><div class=\"sk-parallel-item\"><div class=\"sk-item\"><div class=\"sk-label-container\"><div class=\"sk-label sk-toggleable\"><input class=\"sk-toggleable__control sk-hidden--visually\" id=\"sk-estimator-id-45\" type=\"checkbox\" ><label for=\"sk-estimator-id-45\" class=\"sk-toggleable__label sk-toggleable__label-arrow\">estimator: KNeighborsClassifier</label><div class=\"sk-toggleable__content\"><pre>KNeighborsClassifier()</pre></div></div></div><div class=\"sk-serial\"><div class=\"sk-item\"><div class=\"sk-estimator sk-toggleable\"><input class=\"sk-toggleable__control sk-hidden--visually\" id=\"sk-estimator-id-46\" type=\"checkbox\" ><label for=\"sk-estimator-id-46\" class=\"sk-toggleable__label sk-toggleable__label-arrow\">KNeighborsClassifier</label><div class=\"sk-toggleable__content\"><pre>KNeighborsClassifier()</pre></div></div></div></div></div></div></div></div></div></div>"
            ]
          },
          "metadata": {},
          "execution_count": 112
        }
      ]
    },
    {
      "cell_type": "code",
      "source": [
        "#Выведем полученные гиперпараметры\n",
        "knn_search_filtered.best_params_"
      ],
      "metadata": {
        "colab": {
          "base_uri": "https://localhost:8080/"
        },
        "id": "n74mA07JeltI",
        "outputId": "de934122-5e6a-4ff5-fbbc-06a557d2d7dc"
      },
      "execution_count": 114,
      "outputs": [
        {
          "output_type": "execute_result",
          "data": {
            "text/plain": [
              "{'n_neighbors': 48}"
            ]
          },
          "metadata": {},
          "execution_count": 114
        }
      ]
    },
    {
      "cell_type": "code",
      "source": [
        "knn_best_model = knn_search.best_estimator_\n",
        "knn_best_model_f = knn_search_filtered.best_estimator_"
      ],
      "metadata": {
        "id": "oJ6nRmv-epXu"
      },
      "execution_count": 115,
      "outputs": []
    },
    {
      "cell_type": "code",
      "source": [
        "print('Before filtering')\n",
        "print(f'Accuracy:\\t{accuracy_score(y_train, knn_best_model.predict(X_train))}')\n",
        "print(f'Precision:\\t{precision_score(y_train, knn_best_model.predict(X_train))}')\n",
        "print(f'Recall:\\t{recall_score(y_train, knn_best_model.predict(X_train))}')\n",
        "print(f'F-measure:\\t{f1_score(y_train, knn_best_model.predict(X_train))}')\n",
        "print('After filtering')\n",
        "print(f'Accuracy:\\t{accuracy_score(y_train, knn_best_model_f.predict(x_train_knn_filtered))}')\n",
        "print(f'Precision:\\t{precision_score(y_train, knn_best_model_f.predict(x_train_knn_filtered))}')\n",
        "print(f'Recall:\\t{recall_score(y_train, knn_best_model_f.predict(x_train_knn_filtered))}')\n",
        "print(f'F-measure:\\t{f1_score(y_train, knn_best_model_f.predict(x_train_knn_filtered))}')"
      ],
      "metadata": {
        "colab": {
          "base_uri": "https://localhost:8080/"
        },
        "id": "tASWvvF1eyk_",
        "outputId": "7fcb7703-f984-4dac-f3fe-23d123a84904"
      },
      "execution_count": 117,
      "outputs": [
        {
          "output_type": "stream",
          "name": "stdout",
          "text": [
            "Fitting 10 folds for each of 48 candidates, totalling 480 fits\n",
            "Before filtering\n",
            "Accuracy: 0.85\n",
            "Precision: 0.8613138686131386\n",
            "Recall: 0.8027210884353742\n",
            "F-measure: 0.8309859154929576\n",
            "After filtering\n",
            "Accuracy: 0.846875\n",
            "Precision: 0.855072463768116\n",
            "Recall: 0.8027210884353742\n",
            "F-measure: 0.8280701754385965\n"
          ]
        }
      ]
    },
    {
      "cell_type": "markdown",
      "source": [
        "Значения метрик немного ухудшились"
      ],
      "metadata": {
        "id": "kDZEyb4TfwW9"
      }
    },
    {
      "cell_type": "markdown",
      "source": [
        "**Задание 6.** Мы наблюдали улучшение модели на отфильтрованных признаках для модели DecisionTreeClassifier."
      ],
      "metadata": {
        "id": "cZkbQ4TRgz_H"
      }
    },
    {
      "cell_type": "code",
      "source": [
        "selected_features"
      ],
      "metadata": {
        "colab": {
          "base_uri": "https://localhost:8080/"
        },
        "id": "qYsnqUtDhL0W",
        "outputId": "173579cc-59a7-459a-8bca-557f1bb75024"
      },
      "execution_count": 118,
      "outputs": [
        {
          "output_type": "execute_result",
          "data": {
            "text/plain": [
              "Index(['GRE Score', 'TOEFL Score'], dtype='object')"
            ]
          },
          "metadata": {},
          "execution_count": 118
        }
      ]
    },
    {
      "cell_type": "markdown",
      "source": [
        "Для DecisionTreeClassifier"
      ],
      "metadata": {
        "id": "UGmCOU_yhbyC"
      }
    },
    {
      "cell_type": "code",
      "source": [
        "# Подбор лучшей модели на обучающей выборке с отфильтрованными признаками\n",
        "X_train_filtered = X_train[selected_features]\n",
        "X_test_filtered = X_test[selected_features]"
      ],
      "metadata": {
        "id": "QOaoyv-khoTj"
      },
      "execution_count": 121,
      "outputs": []
    },
    {
      "cell_type": "code",
      "source": [
        "# Подбор лучшей модели KNeighborsClassifier на отфильтрованных признаках\n",
        "knn_model = KNeighborsClassifier()\n",
        "\n",
        "knn_grid = {'n_neighbors': range(2, 50)}\n",
        "\n",
        "knn_search = GridSearchCV(knn_model, knn_grid, cv=10, n_jobs=-1, verbose=2)\n",
        "knn_search.fit(X_train_filtered, y_train)\n",
        "\n",
        "# Вывод наилучших гиперпараметров и метрик для KNeighborsClassifier\n",
        "print(\"Best hyperparameters for KNeighborsClassifier after feature selection:\", knn_search.best_params_)\n",
        "y_pred_knn_filtered = knn_search.predict(X_test_filtered)\n",
        "print(\"Accuracy for KNeighborsClassifier after feature selection:\", accuracy_score(y_test, y_pred_knn_filtered))\n",
        "print(\"Precision for KNeighborsClassifier after feature selection:\", precision_score(y_test, y_pred_knn_filtered))\n",
        "print(\"Recall for KNeighborsClassifier after feature selection:\", recall_score(y_test, y_pred_knn_filtered))\n",
        "print(\"F1 Score for KNeighborsClassifier after feature selection:\", f1_score(y_test, y_pred_knn_filtered))"
      ],
      "metadata": {
        "colab": {
          "base_uri": "https://localhost:8080/"
        },
        "id": "VjaZnpUMkT5R",
        "outputId": "15227e0b-3333-45d1-a6c9-401bce3608bc"
      },
      "execution_count": 122,
      "outputs": [
        {
          "output_type": "stream",
          "name": "stdout",
          "text": [
            "Fitting 10 folds for each of 48 candidates, totalling 480 fits\n",
            "Best hyperparameters for KNeighborsClassifier after feature selection: {'n_neighbors': 15}\n",
            "Accuracy for KNeighborsClassifier after feature selection: 0.875\n",
            "Precision for KNeighborsClassifier after feature selection: 0.8285714285714286\n",
            "Recall for KNeighborsClassifier after feature selection: 0.8787878787878788\n",
            "F1 Score for KNeighborsClassifier after feature selection: 0.8529411764705883\n"
          ]
        }
      ]
    },
    {
      "cell_type": "code",
      "source": [
        "# Подбор лучшей модели DecisionTreeClassifier на отфильтрованных признаках\n",
        "dt_model = DecisionTreeClassifier()\n",
        "\n",
        "param_grid_dt = {\n",
        "    'max_depth': [3, 4, 5, 6, 7, 8, 9, 10],\n",
        "    'max_features': range(2, 8)\n",
        "}\n",
        "\n",
        "grid_search_dt = GridSearchCV(dt_model, param_grid_dt, cv=5)\n",
        "grid_search_dt.fit(X_train_filtered, y_train)\n",
        "\n",
        "# Вывод наилучших гиперпараметров и метрик для DecisionTreeClassifier\n",
        "print(\"Best hyperparameters for DecisionTreeClassifier after feature selection:\", grid_search_dt.best_params_)\n",
        "y_pred_dt_filtered = grid_search_dt.predict(X_test_filtered)\n",
        "print(\"Accuracy for DecisionTreeClassifier after feature selection:\", accuracy_score(y_test, y_pred_dt_filtered))\n",
        "print(\"Precision for DecisionTreeClassifier after feature selection:\", precision_score(y_test, y_pred_dt_filtered))\n",
        "print(\"Recall for DecisionTreeClassifier after feature selection:\", recall_score(y_test, y_pred_dt_filtered))\n",
        "print(\"F1 Score for DecisionTreeClassifier after feature selection:\", f1_score(y_test, y_pred_dt_filtered))\n"
      ],
      "metadata": {
        "colab": {
          "base_uri": "https://localhost:8080/"
        },
        "id": "YGWup6kzkcJR",
        "outputId": "7162ff1f-f7b4-46ee-c3e2-b69184391a1b"
      },
      "execution_count": 123,
      "outputs": [
        {
          "output_type": "stream",
          "name": "stdout",
          "text": [
            "Best hyperparameters for DecisionTreeClassifier after feature selection: {'max_depth': 3, 'max_features': 2}\n",
            "Accuracy for DecisionTreeClassifier after feature selection: 0.8875\n",
            "Precision for DecisionTreeClassifier after feature selection: 0.8529411764705882\n",
            "Recall for DecisionTreeClassifier after feature selection: 0.8787878787878788\n",
            "F1 Score for DecisionTreeClassifier after feature selection: 0.8656716417910447\n"
          ]
        }
      ]
    },
    {
      "cell_type": "code",
      "source": [
        "# Подбор лучшей модели RandomForestClassifier на отфильтрованных признаках\n",
        "rf_model = RandomForestClassifier()\n",
        "param_grid_rf = {\n",
        "    'n_estimators': range(10, 150, 5),\n",
        "    'max_depth': range(1, 8),\n",
        "}\n",
        "\n",
        "grid_search_rf = GridSearchCV(rf_model, param_grid_rf, cv=5)\n",
        "grid_search_rf.fit(X_train_filtered, y_train)\n",
        "\n",
        "# Вывод наилучших гиперпараметров и метрик для RandomForestClassifier\n",
        "print(\"Best hyperparameters for RandomForestClassifier after feature selection:\", grid_search_rf.best_params_)\n",
        "y_pred_rf_filtered = grid_search_rf.predict(X_test_filtered)\n",
        "print(\"Accuracy for RandomForestClassifier after feature selection:\", accuracy_score(y_test, y_pred_rf_filtered))\n",
        "print(\"Precision for RandomForestClassifier after feature selection:\", precision_score(y_test, y_pred_rf_filtered))\n",
        "print(\"Recall for RandomForestClassifier after feature selection:\", recall_score(y_test, y_pred_rf_filtered))\n",
        "print(\"F1 Score for RandomForestClassifier after feature selection:\", f1_score(y_test, y_pred_rf_filtered))"
      ],
      "metadata": {
        "colab": {
          "base_uri": "https://localhost:8080/"
        },
        "id": "uTS3uZt6kfqZ",
        "outputId": "2b7f5ce1-04a4-4f67-c178-f047ea6ad74f"
      },
      "execution_count": 124,
      "outputs": [
        {
          "output_type": "stream",
          "name": "stdout",
          "text": [
            "Best hyperparameters for RandomForestClassifier after feature selection: {'max_depth': 1, 'n_estimators': 135}\n",
            "Accuracy for RandomForestClassifier after feature selection: 0.875\n",
            "Precision for RandomForestClassifier after feature selection: 0.8285714285714286\n",
            "Recall for RandomForestClassifier after feature selection: 0.8787878787878788\n",
            "F1 Score for RandomForestClassifier after feature selection: 0.8529411764705883\n"
          ]
        }
      ]
    },
    {
      "cell_type": "markdown",
      "source": [
        "**Задание 7. Визуализация**"
      ],
      "metadata": {
        "id": "rjO0QvpalDFa"
      }
    },
    {
      "cell_type": "code",
      "source": [
        "from sklearn.tree import export_graphviz\n",
        "import graphviz\n",
        "from sklearn.tree import export_text\n",
        "import matplotlib.pyplot as plt\n",
        "from sklearn import tree"
      ],
      "metadata": {
        "id": "wYgoyvqZlF3J"
      },
      "execution_count": 138,
      "outputs": []
    },
    {
      "cell_type": "markdown",
      "source": [
        "Визуализация решающего дерева DecisionTreeClassifier"
      ],
      "metadata": {
        "id": "ACM61zqslIqx"
      }
    },
    {
      "cell_type": "code",
      "source": [
        "best_dt_model = grid_search_dt.best_estimator_\n",
        "feature_names = data.columns[:-1]  # Признаки, последний столбец - целевая переменная\n",
        "class_names = ['0', '1']"
      ],
      "metadata": {
        "id": "TX6pkiaVlJ2O"
      },
      "execution_count": 127,
      "outputs": []
    },
    {
      "cell_type": "code",
      "source": [
        "dot_data = export_graphviz(best_dt_model, out_file=None, feature_names=selected_features,\n",
        "                           class_names=class_names, filled=True, rounded=True)\n"
      ],
      "metadata": {
        "id": "kQ2pFh9ulfKv"
      },
      "execution_count": 140,
      "outputs": []
    },
    {
      "cell_type": "code",
      "source": [
        "# Визуализация дерева\n",
        "graph = graphviz.Source(dot_data)\n",
        "graph.render(\"decision_tree_visualization\")\n",
        "graph.view()"
      ],
      "metadata": {
        "colab": {
          "base_uri": "https://localhost:8080/",
          "height": 36
        },
        "id": "0IwVZjxFlQoy",
        "outputId": "438f7b4c-a54b-4d36-c0c3-3b9f4f993018"
      },
      "execution_count": 141,
      "outputs": [
        {
          "output_type": "execute_result",
          "data": {
            "text/plain": [
              "'decision_tree_visualization.pdf'"
            ],
            "application/vnd.google.colaboratory.intrinsic+json": {
              "type": "string"
            }
          },
          "metadata": {},
          "execution_count": 141
        }
      ]
    },
    {
      "cell_type": "markdown",
      "source": [
        "![image.png](data:image/png;base64,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)"
      ],
      "metadata": {
        "id": "DKd29OC2mcld"
      }
    },
    {
      "cell_type": "markdown",
      "source": [
        "Сравним лучшие модели"
      ],
      "metadata": {
        "id": "03b6_mZAnrCI"
      }
    },
    {
      "cell_type": "code",
      "source": [
        "# Вывод наилучших гиперпараметров и метрик для KNeighborsClassifier\n",
        "print(\"Best hyperparameters for KNeighborsClassifier after feature selection:\", knn_search.best_params_)\n",
        "y_pred_knn_filtered = knn_search.predict(X_test_filtered)\n",
        "print(\"Accuracy for KNeighborsClassifier after feature selection:\", accuracy_score(y_test, y_pred_knn_filtered))\n",
        "print(\"Precision for KNeighborsClassifier after feature selection:\", precision_score(y_test, y_pred_knn_filtered))\n",
        "print(\"Recall for KNeighborsClassifier after feature selection:\", recall_score(y_test, y_pred_knn_filtered))\n",
        "print(\"F1 Score for KNeighborsClassifier after feature selection:\", f1_score(y_test, y_pred_knn_filtered))"
      ],
      "metadata": {
        "colab": {
          "base_uri": "https://localhost:8080/"
        },
        "id": "DNPg5cEjntnM",
        "outputId": "a69d72b3-6e91-4abd-fa65-b7457ef6d635"
      },
      "execution_count": 146,
      "outputs": [
        {
          "output_type": "stream",
          "name": "stdout",
          "text": [
            "Best hyperparameters for KNeighborsClassifier after feature selection: {'n_neighbors': 15}\n",
            "Accuracy for KNeighborsClassifier after feature selection: 0.875\n",
            "Precision for KNeighborsClassifier after feature selection: 0.8285714285714286\n",
            "Recall for KNeighborsClassifier after feature selection: 0.8787878787878788\n",
            "F1 Score for KNeighborsClassifier after feature selection: 0.8529411764705883\n"
          ]
        }
      ]
    },
    {
      "cell_type": "code",
      "source": [
        "# Вывод наилучших гиперпараметров и метрик для DecisionTreeClassifier\n",
        "print(\"Best hyperparameters for DecisionTreeClassifier after feature selection:\", grid_search_dt.best_params_)\n",
        "y_pred_dt_filtered = grid_search_dt.predict(X_test_filtered)\n",
        "print(\"Accuracy for DecisionTreeClassifier after feature selection:\", accuracy_score(y_test, y_pred_dt_filtered))\n",
        "print(\"Precision for DecisionTreeClassifier after feature selection:\", precision_score(y_test, y_pred_dt_filtered))\n",
        "print(\"Recall for DecisionTreeClassifier after feature selection:\", recall_score(y_test, y_pred_dt_filtered))\n",
        "print(\"F1 Score for DecisionTreeClassifier after feature selection:\", f1_score(y_test, y_pred_dt_filtered))\n"
      ],
      "metadata": {
        "colab": {
          "base_uri": "https://localhost:8080/"
        },
        "id": "xP-SjHmGnx1u",
        "outputId": "dfa4ed94-faac-43f9-8d7c-501d54db2e80"
      },
      "execution_count": 147,
      "outputs": [
        {
          "output_type": "stream",
          "name": "stdout",
          "text": [
            "Best hyperparameters for DecisionTreeClassifier after feature selection: {'max_depth': 3, 'max_features': 2}\n",
            "Accuracy for DecisionTreeClassifier after feature selection: 0.8875\n",
            "Precision for DecisionTreeClassifier after feature selection: 0.8529411764705882\n",
            "Recall for DecisionTreeClassifier after feature selection: 0.8787878787878788\n",
            "F1 Score for DecisionTreeClassifier after feature selection: 0.8656716417910447\n"
          ]
        }
      ]
    },
    {
      "cell_type": "code",
      "source": [
        "# Вывод наилучших гиперпараметров и метрик для RandomForestClassifier\n",
        "print(\"Best hyperparameters for RandomForestClassifier after feature selection:\", grid_search_rf.best_params_)\n",
        "y_pred_rf_filtered = grid_search_rf.predict(X_test_filtered)\n",
        "print(\"Accuracy for RandomForestClassifier after feature selection:\", accuracy_score(y_test, y_pred_rf_filtered))\n",
        "print(\"Precision for RandomForestClassifier after feature selection:\", precision_score(y_test, y_pred_rf_filtered))\n",
        "print(\"Recall for RandomForestClassifier after feature selection:\", recall_score(y_test, y_pred_rf_filtered))\n",
        "print(\"F1 Score for RandomForestClassifier after feature selection:\", f1_score(y_test, y_pred_rf_filtered))"
      ],
      "metadata": {
        "colab": {
          "base_uri": "https://localhost:8080/"
        },
        "id": "WmQaISwBn1Od",
        "outputId": "c5ef103c-555e-4166-e9cf-d9b142772e53"
      },
      "execution_count": 148,
      "outputs": [
        {
          "output_type": "stream",
          "name": "stdout",
          "text": [
            "Best hyperparameters for RandomForestClassifier after feature selection: {'max_depth': 1, 'n_estimators': 135}\n",
            "Accuracy for RandomForestClassifier after feature selection: 0.875\n",
            "Precision for RandomForestClassifier after feature selection: 0.8285714285714286\n",
            "Recall for RandomForestClassifier after feature selection: 0.8787878787878788\n",
            "F1 Score for RandomForestClassifier after feature selection: 0.8529411764705883\n"
          ]
        }
      ]
    },
    {
      "cell_type": "markdown",
      "source": [
        "Исходя из полученных метрик лучших моделей можно сказать, что DecisionTreeClassifier имеет немного более высокую точность и F1-меру по сравнению с KNeighborsClassifier и RandomForestClassifier."
      ],
      "metadata": {
        "id": "O1fp5373oC9P"
      }
    },
    {
      "cell_type": "markdown",
      "source": [
        "Дольше всего обучался случайный лес (Я ждал часа полтора несколько раз, потом решил взять датасет по меньше)."
      ],
      "metadata": {
        "id": "Jot4BUn1oYpz"
      }
    }
  ]
}